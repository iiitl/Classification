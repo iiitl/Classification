{
  "nbformat": 4,
  "nbformat_minor": 0,
  "metadata": {
    "colab": {
      "provenance": []
    },
    "kernelspec": {
      "name": "python3",
      "display_name": "Python 3"
    },
    "language_info": {
      "name": "python"
    }
  },
  "cells": [
    {
      "cell_type": "code",
      "execution_count": 238,
      "metadata": {
        "id": "Tt7Mn1KMbZ5y"
      },
      "outputs": [],
      "source": [
        "import numpy as np\n",
        "import pandas as pd\n",
        "import matplotlib.pyplot as plt\n",
        "import seaborn as sns\n",
        "from sklearn.preprocessing import LabelEncoder\n",
        "from sklearn.preprocessing import StandardScaler\n",
        "from sklearn.impute import SimpleImputer\n",
        "from sklearn.model_selection import train_test_split\n",
        "from sklearn.linear_model import LogisticRegression\n",
        "from sklearn import svm\n",
        "from sklearn.metrics import accuracy_score\n",
        "from sklearn.metrics import confusion_matrix"
      ]
    },
    {
      "cell_type": "markdown",
      "source": [
        "# Import Dataframe"
      ],
      "metadata": {
        "id": "7B6JttFQmG3z"
      }
    },
    {
      "cell_type": "code",
      "source": [
        "df = pd.read_csv('/content/wines_SPA.csv')\n",
        "df"
      ],
      "metadata": {
        "colab": {
          "base_uri": "https://localhost:8080/",
          "height": 686
        },
        "id": "1pZS5hHvePDs",
        "outputId": "cc18eb99-2911-46a1-c235-ecd5379fde4b"
      },
      "execution_count": null,
      "outputs": [
        {
          "output_type": "execute_result",
          "data": {
            "text/plain": [
              "                    winery             wine  year  rating  num_reviews  \\\n",
              "0            Teso La Monja            Tinto  2013     4.9           58   \n",
              "1                   Artadi    Vina El Pison  2018     4.9           31   \n",
              "2             Vega Sicilia            Unico  2009     4.8         1793   \n",
              "3             Vega Sicilia            Unico  1999     4.8         1705   \n",
              "4             Vega Sicilia            Unico  1996     4.8         1309   \n",
              "...                    ...              ...   ...     ...          ...   \n",
              "7495               Contino          Reserva  2016     4.2          392   \n",
              "7496  Conreria d'Scala Dei    Les Brugueres  2018     4.2          390   \n",
              "7497           Mustiguillo  Finca Terrerazo  2017     4.2          390   \n",
              "7498           Matarromera     Gran Reserva  2011     4.2          389   \n",
              "7499              Sei Solo         Preludio  2016     4.2          388   \n",
              "\n",
              "     country            region   price                  type  body  acidity  \n",
              "0     Espana              Toro  995.00              Toro Red   5.0      3.0  \n",
              "1     Espana    Vino de Espana  313.50           Tempranillo   4.0      2.0  \n",
              "2     Espana  Ribera del Duero  324.95  Ribera Del Duero Red   5.0      3.0  \n",
              "3     Espana  Ribera del Duero  692.96  Ribera Del Duero Red   5.0      3.0  \n",
              "4     Espana  Ribera del Duero  778.06  Ribera Del Duero Red   5.0      3.0  \n",
              "...      ...               ...     ...                   ...   ...      ...  \n",
              "7495  Espana             Rioja   19.98             Rioja Red   4.0      3.0  \n",
              "7496  Espana          Priorato   16.76           Priorat Red   4.0      3.0  \n",
              "7497  Espana      El Terrerazo   24.45                   Red   4.0      3.0  \n",
              "7498  Espana  Ribera del Duero   64.50  Ribera Del Duero Red   5.0      3.0  \n",
              "7499  Espana  Ribera del Duero   31.63  Ribera Del Duero Red   5.0      3.0  \n",
              "\n",
              "[7500 rows x 11 columns]"
            ],
            "text/html": [
              "\n",
              "  <div id=\"df-3a1a2ccf-2eea-40a0-a844-489c06643f0d\" class=\"colab-df-container\">\n",
              "    <div>\n",
              "<style scoped>\n",
              "    .dataframe tbody tr th:only-of-type {\n",
              "        vertical-align: middle;\n",
              "    }\n",
              "\n",
              "    .dataframe tbody tr th {\n",
              "        vertical-align: top;\n",
              "    }\n",
              "\n",
              "    .dataframe thead th {\n",
              "        text-align: right;\n",
              "    }\n",
              "</style>\n",
              "<table border=\"1\" class=\"dataframe\">\n",
              "  <thead>\n",
              "    <tr style=\"text-align: right;\">\n",
              "      <th></th>\n",
              "      <th>winery</th>\n",
              "      <th>wine</th>\n",
              "      <th>year</th>\n",
              "      <th>rating</th>\n",
              "      <th>num_reviews</th>\n",
              "      <th>country</th>\n",
              "      <th>region</th>\n",
              "      <th>price</th>\n",
              "      <th>type</th>\n",
              "      <th>body</th>\n",
              "      <th>acidity</th>\n",
              "    </tr>\n",
              "  </thead>\n",
              "  <tbody>\n",
              "    <tr>\n",
              "      <th>0</th>\n",
              "      <td>Teso La Monja</td>\n",
              "      <td>Tinto</td>\n",
              "      <td>2013</td>\n",
              "      <td>4.9</td>\n",
              "      <td>58</td>\n",
              "      <td>Espana</td>\n",
              "      <td>Toro</td>\n",
              "      <td>995.00</td>\n",
              "      <td>Toro Red</td>\n",
              "      <td>5.0</td>\n",
              "      <td>3.0</td>\n",
              "    </tr>\n",
              "    <tr>\n",
              "      <th>1</th>\n",
              "      <td>Artadi</td>\n",
              "      <td>Vina El Pison</td>\n",
              "      <td>2018</td>\n",
              "      <td>4.9</td>\n",
              "      <td>31</td>\n",
              "      <td>Espana</td>\n",
              "      <td>Vino de Espana</td>\n",
              "      <td>313.50</td>\n",
              "      <td>Tempranillo</td>\n",
              "      <td>4.0</td>\n",
              "      <td>2.0</td>\n",
              "    </tr>\n",
              "    <tr>\n",
              "      <th>2</th>\n",
              "      <td>Vega Sicilia</td>\n",
              "      <td>Unico</td>\n",
              "      <td>2009</td>\n",
              "      <td>4.8</td>\n",
              "      <td>1793</td>\n",
              "      <td>Espana</td>\n",
              "      <td>Ribera del Duero</td>\n",
              "      <td>324.95</td>\n",
              "      <td>Ribera Del Duero Red</td>\n",
              "      <td>5.0</td>\n",
              "      <td>3.0</td>\n",
              "    </tr>\n",
              "    <tr>\n",
              "      <th>3</th>\n",
              "      <td>Vega Sicilia</td>\n",
              "      <td>Unico</td>\n",
              "      <td>1999</td>\n",
              "      <td>4.8</td>\n",
              "      <td>1705</td>\n",
              "      <td>Espana</td>\n",
              "      <td>Ribera del Duero</td>\n",
              "      <td>692.96</td>\n",
              "      <td>Ribera Del Duero Red</td>\n",
              "      <td>5.0</td>\n",
              "      <td>3.0</td>\n",
              "    </tr>\n",
              "    <tr>\n",
              "      <th>4</th>\n",
              "      <td>Vega Sicilia</td>\n",
              "      <td>Unico</td>\n",
              "      <td>1996</td>\n",
              "      <td>4.8</td>\n",
              "      <td>1309</td>\n",
              "      <td>Espana</td>\n",
              "      <td>Ribera del Duero</td>\n",
              "      <td>778.06</td>\n",
              "      <td>Ribera Del Duero Red</td>\n",
              "      <td>5.0</td>\n",
              "      <td>3.0</td>\n",
              "    </tr>\n",
              "    <tr>\n",
              "      <th>...</th>\n",
              "      <td>...</td>\n",
              "      <td>...</td>\n",
              "      <td>...</td>\n",
              "      <td>...</td>\n",
              "      <td>...</td>\n",
              "      <td>...</td>\n",
              "      <td>...</td>\n",
              "      <td>...</td>\n",
              "      <td>...</td>\n",
              "      <td>...</td>\n",
              "      <td>...</td>\n",
              "    </tr>\n",
              "    <tr>\n",
              "      <th>7495</th>\n",
              "      <td>Contino</td>\n",
              "      <td>Reserva</td>\n",
              "      <td>2016</td>\n",
              "      <td>4.2</td>\n",
              "      <td>392</td>\n",
              "      <td>Espana</td>\n",
              "      <td>Rioja</td>\n",
              "      <td>19.98</td>\n",
              "      <td>Rioja Red</td>\n",
              "      <td>4.0</td>\n",
              "      <td>3.0</td>\n",
              "    </tr>\n",
              "    <tr>\n",
              "      <th>7496</th>\n",
              "      <td>Conreria d'Scala Dei</td>\n",
              "      <td>Les Brugueres</td>\n",
              "      <td>2018</td>\n",
              "      <td>4.2</td>\n",
              "      <td>390</td>\n",
              "      <td>Espana</td>\n",
              "      <td>Priorato</td>\n",
              "      <td>16.76</td>\n",
              "      <td>Priorat Red</td>\n",
              "      <td>4.0</td>\n",
              "      <td>3.0</td>\n",
              "    </tr>\n",
              "    <tr>\n",
              "      <th>7497</th>\n",
              "      <td>Mustiguillo</td>\n",
              "      <td>Finca Terrerazo</td>\n",
              "      <td>2017</td>\n",
              "      <td>4.2</td>\n",
              "      <td>390</td>\n",
              "      <td>Espana</td>\n",
              "      <td>El Terrerazo</td>\n",
              "      <td>24.45</td>\n",
              "      <td>Red</td>\n",
              "      <td>4.0</td>\n",
              "      <td>3.0</td>\n",
              "    </tr>\n",
              "    <tr>\n",
              "      <th>7498</th>\n",
              "      <td>Matarromera</td>\n",
              "      <td>Gran Reserva</td>\n",
              "      <td>2011</td>\n",
              "      <td>4.2</td>\n",
              "      <td>389</td>\n",
              "      <td>Espana</td>\n",
              "      <td>Ribera del Duero</td>\n",
              "      <td>64.50</td>\n",
              "      <td>Ribera Del Duero Red</td>\n",
              "      <td>5.0</td>\n",
              "      <td>3.0</td>\n",
              "    </tr>\n",
              "    <tr>\n",
              "      <th>7499</th>\n",
              "      <td>Sei Solo</td>\n",
              "      <td>Preludio</td>\n",
              "      <td>2016</td>\n",
              "      <td>4.2</td>\n",
              "      <td>388</td>\n",
              "      <td>Espana</td>\n",
              "      <td>Ribera del Duero</td>\n",
              "      <td>31.63</td>\n",
              "      <td>Ribera Del Duero Red</td>\n",
              "      <td>5.0</td>\n",
              "      <td>3.0</td>\n",
              "    </tr>\n",
              "  </tbody>\n",
              "</table>\n",
              "<p>7500 rows × 11 columns</p>\n",
              "</div>\n",
              "    <div class=\"colab-df-buttons\">\n",
              "\n",
              "  <div class=\"colab-df-container\">\n",
              "    <button class=\"colab-df-convert\" onclick=\"convertToInteractive('df-3a1a2ccf-2eea-40a0-a844-489c06643f0d')\"\n",
              "            title=\"Convert this dataframe to an interactive table.\"\n",
              "            style=\"display:none;\">\n",
              "\n",
              "  <svg xmlns=\"http://www.w3.org/2000/svg\" height=\"24px\" viewBox=\"0 -960 960 960\">\n",
              "    <path d=\"M120-120v-720h720v720H120Zm60-500h600v-160H180v160Zm220 220h160v-160H400v160Zm0 220h160v-160H400v160ZM180-400h160v-160H180v160Zm440 0h160v-160H620v160ZM180-180h160v-160H180v160Zm440 0h160v-160H620v160Z\"/>\n",
              "  </svg>\n",
              "    </button>\n",
              "\n",
              "  <style>\n",
              "    .colab-df-container {\n",
              "      display:flex;\n",
              "      gap: 12px;\n",
              "    }\n",
              "\n",
              "    .colab-df-convert {\n",
              "      background-color: #E8F0FE;\n",
              "      border: none;\n",
              "      border-radius: 50%;\n",
              "      cursor: pointer;\n",
              "      display: none;\n",
              "      fill: #1967D2;\n",
              "      height: 32px;\n",
              "      padding: 0 0 0 0;\n",
              "      width: 32px;\n",
              "    }\n",
              "\n",
              "    .colab-df-convert:hover {\n",
              "      background-color: #E2EBFA;\n",
              "      box-shadow: 0px 1px 2px rgba(60, 64, 67, 0.3), 0px 1px 3px 1px rgba(60, 64, 67, 0.15);\n",
              "      fill: #174EA6;\n",
              "    }\n",
              "\n",
              "    .colab-df-buttons div {\n",
              "      margin-bottom: 4px;\n",
              "    }\n",
              "\n",
              "    [theme=dark] .colab-df-convert {\n",
              "      background-color: #3B4455;\n",
              "      fill: #D2E3FC;\n",
              "    }\n",
              "\n",
              "    [theme=dark] .colab-df-convert:hover {\n",
              "      background-color: #434B5C;\n",
              "      box-shadow: 0px 1px 3px 1px rgba(0, 0, 0, 0.15);\n",
              "      filter: drop-shadow(0px 1px 2px rgba(0, 0, 0, 0.3));\n",
              "      fill: #FFFFFF;\n",
              "    }\n",
              "  </style>\n",
              "\n",
              "    <script>\n",
              "      const buttonEl =\n",
              "        document.querySelector('#df-3a1a2ccf-2eea-40a0-a844-489c06643f0d button.colab-df-convert');\n",
              "      buttonEl.style.display =\n",
              "        google.colab.kernel.accessAllowed ? 'block' : 'none';\n",
              "\n",
              "      async function convertToInteractive(key) {\n",
              "        const element = document.querySelector('#df-3a1a2ccf-2eea-40a0-a844-489c06643f0d');\n",
              "        const dataTable =\n",
              "          await google.colab.kernel.invokeFunction('convertToInteractive',\n",
              "                                                    [key], {});\n",
              "        if (!dataTable) return;\n",
              "\n",
              "        const docLinkHtml = 'Like what you see? Visit the ' +\n",
              "          '<a target=\"_blank\" href=https://colab.research.google.com/notebooks/data_table.ipynb>data table notebook</a>'\n",
              "          + ' to learn more about interactive tables.';\n",
              "        element.innerHTML = '';\n",
              "        dataTable['output_type'] = 'display_data';\n",
              "        await google.colab.output.renderOutput(dataTable, element);\n",
              "        const docLink = document.createElement('div');\n",
              "        docLink.innerHTML = docLinkHtml;\n",
              "        element.appendChild(docLink);\n",
              "      }\n",
              "    </script>\n",
              "  </div>\n",
              "\n",
              "\n",
              "<div id=\"df-5e7f503f-f2c7-4dd5-bda8-714b4852b9dd\">\n",
              "  <button class=\"colab-df-quickchart\" onclick=\"quickchart('df-5e7f503f-f2c7-4dd5-bda8-714b4852b9dd')\"\n",
              "            title=\"Suggest charts\"\n",
              "            style=\"display:none;\">\n",
              "\n",
              "<svg xmlns=\"http://www.w3.org/2000/svg\" height=\"24px\"viewBox=\"0 0 24 24\"\n",
              "     width=\"24px\">\n",
              "    <g>\n",
              "        <path d=\"M19 3H5c-1.1 0-2 .9-2 2v14c0 1.1.9 2 2 2h14c1.1 0 2-.9 2-2V5c0-1.1-.9-2-2-2zM9 17H7v-7h2v7zm4 0h-2V7h2v10zm4 0h-2v-4h2v4z\"/>\n",
              "    </g>\n",
              "</svg>\n",
              "  </button>\n",
              "\n",
              "<style>\n",
              "  .colab-df-quickchart {\n",
              "      --bg-color: #E8F0FE;\n",
              "      --fill-color: #1967D2;\n",
              "      --hover-bg-color: #E2EBFA;\n",
              "      --hover-fill-color: #174EA6;\n",
              "      --disabled-fill-color: #AAA;\n",
              "      --disabled-bg-color: #DDD;\n",
              "  }\n",
              "\n",
              "  [theme=dark] .colab-df-quickchart {\n",
              "      --bg-color: #3B4455;\n",
              "      --fill-color: #D2E3FC;\n",
              "      --hover-bg-color: #434B5C;\n",
              "      --hover-fill-color: #FFFFFF;\n",
              "      --disabled-bg-color: #3B4455;\n",
              "      --disabled-fill-color: #666;\n",
              "  }\n",
              "\n",
              "  .colab-df-quickchart {\n",
              "    background-color: var(--bg-color);\n",
              "    border: none;\n",
              "    border-radius: 50%;\n",
              "    cursor: pointer;\n",
              "    display: none;\n",
              "    fill: var(--fill-color);\n",
              "    height: 32px;\n",
              "    padding: 0;\n",
              "    width: 32px;\n",
              "  }\n",
              "\n",
              "  .colab-df-quickchart:hover {\n",
              "    background-color: var(--hover-bg-color);\n",
              "    box-shadow: 0 1px 2px rgba(60, 64, 67, 0.3), 0 1px 3px 1px rgba(60, 64, 67, 0.15);\n",
              "    fill: var(--button-hover-fill-color);\n",
              "  }\n",
              "\n",
              "  .colab-df-quickchart-complete:disabled,\n",
              "  .colab-df-quickchart-complete:disabled:hover {\n",
              "    background-color: var(--disabled-bg-color);\n",
              "    fill: var(--disabled-fill-color);\n",
              "    box-shadow: none;\n",
              "  }\n",
              "\n",
              "  .colab-df-spinner {\n",
              "    border: 2px solid var(--fill-color);\n",
              "    border-color: transparent;\n",
              "    border-bottom-color: var(--fill-color);\n",
              "    animation:\n",
              "      spin 1s steps(1) infinite;\n",
              "  }\n",
              "\n",
              "  @keyframes spin {\n",
              "    0% {\n",
              "      border-color: transparent;\n",
              "      border-bottom-color: var(--fill-color);\n",
              "      border-left-color: var(--fill-color);\n",
              "    }\n",
              "    20% {\n",
              "      border-color: transparent;\n",
              "      border-left-color: var(--fill-color);\n",
              "      border-top-color: var(--fill-color);\n",
              "    }\n",
              "    30% {\n",
              "      border-color: transparent;\n",
              "      border-left-color: var(--fill-color);\n",
              "      border-top-color: var(--fill-color);\n",
              "      border-right-color: var(--fill-color);\n",
              "    }\n",
              "    40% {\n",
              "      border-color: transparent;\n",
              "      border-right-color: var(--fill-color);\n",
              "      border-top-color: var(--fill-color);\n",
              "    }\n",
              "    60% {\n",
              "      border-color: transparent;\n",
              "      border-right-color: var(--fill-color);\n",
              "    }\n",
              "    80% {\n",
              "      border-color: transparent;\n",
              "      border-right-color: var(--fill-color);\n",
              "      border-bottom-color: var(--fill-color);\n",
              "    }\n",
              "    90% {\n",
              "      border-color: transparent;\n",
              "      border-bottom-color: var(--fill-color);\n",
              "    }\n",
              "  }\n",
              "</style>\n",
              "\n",
              "  <script>\n",
              "    async function quickchart(key) {\n",
              "      const quickchartButtonEl =\n",
              "        document.querySelector('#' + key + ' button');\n",
              "      quickchartButtonEl.disabled = true;  // To prevent multiple clicks.\n",
              "      quickchartButtonEl.classList.add('colab-df-spinner');\n",
              "      try {\n",
              "        const charts = await google.colab.kernel.invokeFunction(\n",
              "            'suggestCharts', [key], {});\n",
              "      } catch (error) {\n",
              "        console.error('Error during call to suggestCharts:', error);\n",
              "      }\n",
              "      quickchartButtonEl.classList.remove('colab-df-spinner');\n",
              "      quickchartButtonEl.classList.add('colab-df-quickchart-complete');\n",
              "    }\n",
              "    (() => {\n",
              "      let quickchartButtonEl =\n",
              "        document.querySelector('#df-5e7f503f-f2c7-4dd5-bda8-714b4852b9dd button');\n",
              "      quickchartButtonEl.style.display =\n",
              "        google.colab.kernel.accessAllowed ? 'block' : 'none';\n",
              "    })();\n",
              "  </script>\n",
              "</div>\n",
              "\n",
              "  <div id=\"id_ef7e3ca4-70d3-4d6f-9c44-9c5dac9bb2fa\">\n",
              "    <style>\n",
              "      .colab-df-generate {\n",
              "        background-color: #E8F0FE;\n",
              "        border: none;\n",
              "        border-radius: 50%;\n",
              "        cursor: pointer;\n",
              "        display: none;\n",
              "        fill: #1967D2;\n",
              "        height: 32px;\n",
              "        padding: 0 0 0 0;\n",
              "        width: 32px;\n",
              "      }\n",
              "\n",
              "      .colab-df-generate:hover {\n",
              "        background-color: #E2EBFA;\n",
              "        box-shadow: 0px 1px 2px rgba(60, 64, 67, 0.3), 0px 1px 3px 1px rgba(60, 64, 67, 0.15);\n",
              "        fill: #174EA6;\n",
              "      }\n",
              "\n",
              "      [theme=dark] .colab-df-generate {\n",
              "        background-color: #3B4455;\n",
              "        fill: #D2E3FC;\n",
              "      }\n",
              "\n",
              "      [theme=dark] .colab-df-generate:hover {\n",
              "        background-color: #434B5C;\n",
              "        box-shadow: 0px 1px 3px 1px rgba(0, 0, 0, 0.15);\n",
              "        filter: drop-shadow(0px 1px 2px rgba(0, 0, 0, 0.3));\n",
              "        fill: #FFFFFF;\n",
              "      }\n",
              "    </style>\n",
              "    <button class=\"colab-df-generate\" onclick=\"generateWithVariable('df')\"\n",
              "            title=\"Generate code using this dataframe.\"\n",
              "            style=\"display:none;\">\n",
              "\n",
              "  <svg xmlns=\"http://www.w3.org/2000/svg\" height=\"24px\"viewBox=\"0 0 24 24\"\n",
              "       width=\"24px\">\n",
              "    <path d=\"M7,19H8.4L18.45,9,17,7.55,7,17.6ZM5,21V16.75L18.45,3.32a2,2,0,0,1,2.83,0l1.4,1.43a1.91,1.91,0,0,1,.58,1.4,1.91,1.91,0,0,1-.58,1.4L9.25,21ZM18.45,9,17,7.55Zm-12,3A5.31,5.31,0,0,0,4.9,8.1,5.31,5.31,0,0,0,1,6.5,5.31,5.31,0,0,0,4.9,4.9,5.31,5.31,0,0,0,6.5,1,5.31,5.31,0,0,0,8.1,4.9,5.31,5.31,0,0,0,12,6.5,5.46,5.46,0,0,0,6.5,12Z\"/>\n",
              "  </svg>\n",
              "    </button>\n",
              "    <script>\n",
              "      (() => {\n",
              "      const buttonEl =\n",
              "        document.querySelector('#id_ef7e3ca4-70d3-4d6f-9c44-9c5dac9bb2fa button.colab-df-generate');\n",
              "      buttonEl.style.display =\n",
              "        google.colab.kernel.accessAllowed ? 'block' : 'none';\n",
              "\n",
              "      buttonEl.onclick = () => {\n",
              "        google.colab.notebook.generateWithVariable('df');\n",
              "      }\n",
              "      })();\n",
              "    </script>\n",
              "  </div>\n",
              "\n",
              "    </div>\n",
              "  </div>\n"
            ],
            "application/vnd.google.colaboratory.intrinsic+json": {
              "type": "dataframe",
              "variable_name": "df",
              "summary": "{\n  \"name\": \"df\",\n  \"rows\": 7500,\n  \"fields\": [\n    {\n      \"column\": \"winery\",\n      \"properties\": {\n        \"dtype\": \"category\",\n        \"num_unique_values\": 480,\n        \"samples\": [\n          \"Francisco Garcia Perez\",\n          \"Jimenez-Landi\",\n          \"Bodegas Yzaguirre\"\n        ],\n        \"semantic_type\": \"\",\n        \"description\": \"\"\n      }\n    },\n    {\n      \"column\": \"wine\",\n      \"properties\": {\n        \"dtype\": \"category\",\n        \"num_unique_values\": 847,\n        \"samples\": [\n          \"Cava El Tros Nou Pinot Noir\",\n          \"Teixar\",\n          \"Pagos Viejos\"\n        ],\n        \"semantic_type\": \"\",\n        \"description\": \"\"\n      }\n    },\n    {\n      \"column\": \"year\",\n      \"properties\": {\n        \"dtype\": \"category\",\n        \"num_unique_values\": 71,\n        \"samples\": [\n          \"1985\",\n          \"2013\",\n          \"1958\"\n        ],\n        \"semantic_type\": \"\",\n        \"description\": \"\"\n      }\n    },\n    {\n      \"column\": \"rating\",\n      \"properties\": {\n        \"dtype\": \"number\",\n        \"std\": 0.1180290345746442,\n        \"min\": 4.2,\n        \"max\": 4.9,\n        \"num_unique_values\": 8,\n        \"samples\": [\n          4.8,\n          4.4,\n          4.9\n        ],\n        \"semantic_type\": \"\",\n        \"description\": \"\"\n      }\n    },\n    {\n      \"column\": \"num_reviews\",\n      \"properties\": {\n        \"dtype\": \"number\",\n        \"std\": 723,\n        \"min\": 25,\n        \"max\": 32624,\n        \"num_unique_values\": 817,\n        \"samples\": [\n          115,\n          177,\n          2144\n        ],\n        \"semantic_type\": \"\",\n        \"description\": \"\"\n      }\n    },\n    {\n      \"column\": \"country\",\n      \"properties\": {\n        \"dtype\": \"category\",\n        \"num_unique_values\": 1,\n        \"samples\": [\n          \"Espana\"\n        ],\n        \"semantic_type\": \"\",\n        \"description\": \"\"\n      }\n    },\n    {\n      \"column\": \"region\",\n      \"properties\": {\n        \"dtype\": \"category\",\n        \"num_unique_values\": 76,\n        \"samples\": [\n          \"Jumilla\"\n        ],\n        \"semantic_type\": \"\",\n        \"description\": \"\"\n      }\n    },\n    {\n      \"column\": \"price\",\n      \"properties\": {\n        \"dtype\": \"number\",\n        \"std\": 150.35667645268242,\n        \"min\": 4.99,\n        \"max\": 3119.08,\n        \"num_unique_values\": 1292,\n        \"samples\": [\n          168.0\n        ],\n        \"semantic_type\": \"\",\n        \"description\": \"\"\n      }\n    },\n    {\n      \"column\": \"type\",\n      \"properties\": {\n        \"dtype\": \"category\",\n        \"num_unique_values\": 21,\n        \"samples\": [\n          \"Toro Red\"\n        ],\n        \"semantic_type\": \"\",\n        \"description\": \"\"\n      }\n    },\n    {\n      \"column\": \"body\",\n      \"properties\": {\n        \"dtype\": \"number\",\n        \"std\": 0.5833522358684095,\n        \"min\": 2.0,\n        \"max\": 5.0,\n        \"num_unique_values\": 4,\n        \"samples\": [\n          4.0\n        ],\n        \"semantic_type\": \"\",\n        \"description\": \"\"\n      }\n    },\n    {\n      \"column\": \"acidity\",\n      \"properties\": {\n        \"dtype\": \"number\",\n        \"std\": 0.24820201012421672,\n        \"min\": 1.0,\n        \"max\": 3.0,\n        \"num_unique_values\": 3,\n        \"samples\": [\n          3.0\n        ],\n        \"semantic_type\": \"\",\n        \"description\": \"\"\n      }\n    }\n  ]\n}"
            }
          },
          "metadata": {},
          "execution_count": 180
        }
      ]
    },
    {
      "cell_type": "markdown",
      "source": [
        "DATA PREPROCESSING AND LABEL ENCODING"
      ],
      "metadata": {
        "id": "eHcGko0lEdij"
      }
    },
    {
      "cell_type": "code",
      "source": [
        "df.isnull().sum()"
      ],
      "metadata": {
        "colab": {
          "base_uri": "https://localhost:8080/"
        },
        "id": "z5wXrhc6edUz",
        "outputId": "edefd537-0a94-463f-fbd3-f007051c217b"
      },
      "execution_count": null,
      "outputs": [
        {
          "output_type": "execute_result",
          "data": {
            "text/plain": [
              "winery            0\n",
              "wine              0\n",
              "year              2\n",
              "rating            0\n",
              "num_reviews       0\n",
              "country           0\n",
              "region            0\n",
              "price             0\n",
              "type            545\n",
              "body           1169\n",
              "acidity        1169\n",
              "dtype: int64"
            ]
          },
          "metadata": {},
          "execution_count": 181
        }
      ]
    },
    {
      "cell_type": "code",
      "source": [
        "df['year'] = pd.to_numeric(df['year'], errors='coerce')"
      ],
      "metadata": {
        "id": "4CGvxJxGfKlZ"
      },
      "execution_count": null,
      "outputs": []
    },
    {
      "cell_type": "code",
      "source": [
        "df['year']"
      ],
      "metadata": {
        "colab": {
          "base_uri": "https://localhost:8080/"
        },
        "id": "4STtiVmMiCzz",
        "outputId": "18ab89c8-ec4b-4152-de55-d9b32670aa00"
      },
      "execution_count": null,
      "outputs": [
        {
          "output_type": "execute_result",
          "data": {
            "text/plain": [
              "0       2013.0\n",
              "1       2018.0\n",
              "2       2009.0\n",
              "3       1999.0\n",
              "4       1996.0\n",
              "         ...  \n",
              "7495    2016.0\n",
              "7496    2018.0\n",
              "7497    2017.0\n",
              "7498    2011.0\n",
              "7499    2016.0\n",
              "Name: year, Length: 7500, dtype: float64"
            ]
          },
          "metadata": {},
          "execution_count": 183
        }
      ]
    },
    {
      "cell_type": "code",
      "source": [
        "imputer = SimpleImputer(strategy='median')\n",
        "df['year'] = imputer.fit_transform(df[['year']])\n",
        "df['body'] = imputer.fit_transform(df[['body']])\n",
        "df['acidity'] = imputer.fit_transform(df[['acidity']])"
      ],
      "metadata": {
        "id": "1Beesqqoei4z"
      },
      "execution_count": null,
      "outputs": []
    },
    {
      "cell_type": "code",
      "source": [
        "df.isnull().sum()"
      ],
      "metadata": {
        "colab": {
          "base_uri": "https://localhost:8080/"
        },
        "id": "ft49cSNrfAQa",
        "outputId": "485a98d2-585a-4ca8-a432-64cc9c52e9e2"
      },
      "execution_count": null,
      "outputs": [
        {
          "output_type": "execute_result",
          "data": {
            "text/plain": [
              "winery           0\n",
              "wine             0\n",
              "year             0\n",
              "rating           0\n",
              "num_reviews      0\n",
              "country          0\n",
              "region           0\n",
              "price            0\n",
              "type           545\n",
              "body             0\n",
              "acidity          0\n",
              "dtype: int64"
            ]
          },
          "metadata": {},
          "execution_count": 185
        }
      ]
    },
    {
      "cell_type": "code",
      "source": [
        "df['country'].unique()"
      ],
      "metadata": {
        "colab": {
          "base_uri": "https://localhost:8080/"
        },
        "id": "mLiYsXULfOGh",
        "outputId": "008a25f9-2985-4190-f04f-5379fab3c803"
      },
      "execution_count": null,
      "outputs": [
        {
          "output_type": "execute_result",
          "data": {
            "text/plain": [
              "array(['Espana'], dtype=object)"
            ]
          },
          "metadata": {},
          "execution_count": 186
        }
      ]
    },
    {
      "cell_type": "code",
      "source": [
        "df['winery'].unique()"
      ],
      "metadata": {
        "colab": {
          "base_uri": "https://localhost:8080/"
        },
        "id": "V_QhGYgDgeAR",
        "outputId": "5c194449-10e6-49d6-9470-824395d8b670"
      },
      "execution_count": null,
      "outputs": [
        {
          "output_type": "execute_result",
          "data": {
            "text/plain": [
              "array(['Teso La Monja', 'Artadi', 'Vega Sicilia', 'Pago de Carraovejas',\n",
              "       'Toro Albala', 'Bodegas El Nido', 'Valdespino',\n",
              "       'Dominio de Pingus', 'Alvaro Palacios', 'Ordonez',\n",
              "       'Bodegas Valduero', 'Vina Sastre', 'Sierra Cantabria',\n",
              "       'Descendientes de J. Palacios', 'La Rioja Alta',\n",
              "       'Marques de Murrieta', 'Vinedos de Paganos', 'Emilio Moro',\n",
              "       'Quinta de la Quietud', 'Bodegas Mauro',\n",
              "       'Bodega Contador (Benjamin Romeo)', 'Remirez de Ganuza',\n",
              "       'Bodegas San Roman', 'Pago de Los Capellanes', 'Bodega Numanthia',\n",
              "       'Alto Moncayo', 'Mas Doix', 'Finca Moncloa', 'Bodegas Roda',\n",
              "       'Martinet', 'Recaredo', 'Clos Erasmus', 'Barbadillo',\n",
              "       'Gonzalez-Byass', 'Bodegas Amaren', 'Alvear', 'Equipo Navazos',\n",
              "       'Morca', 'Territorio Luthier', 'Rafael Palacios', 'Terra Remota',\n",
              "       'Dehesa de Los Canonigos', 'Miguel Merino', 'Gutierrez de la Vega',\n",
              "       'Alion', 'Aalto', 'Carmelo Rodero', 'Dominio del Bendito',\n",
              "       \"Mas d'en Gil\", 'Casa Castillo', 'Matarromera', 'Nin-Ortiz',\n",
              "       'Vinas del Vero', 'Marques de Riscal', 'Arzuaga',\n",
              "       'Bodegas Mas Alta', 'Dominio de Calogia', 'Tomas Postigo',\n",
              "       'Cal Pla', 'Ossian', 'Cepa 21', 'Bodegas Vilano', 'Allende',\n",
              "       'Costers del Siurana', 'Hacienda Monasterio', 'Castillo Perelada',\n",
              "       'Osborne', 'Ysios', 'Marques de Grinon', 'Contino', 'Gramona',\n",
              "       'Dominio del Aguila', 'Hacienda Solano', 'Francisco Garcia Perez',\n",
              "       'Anima Negra', 'Castano', 'La Legua', 'Castillo de Cuzcurrita',\n",
              "       'Oxer Wines', 'Bodegas Yuste',\n",
              "       'Bodegas 6o Elemento - Vino Sexto Elemento',\n",
              "       'Proyecto Garnachas de Espana', 'Casal de Arman', 'Vall Llach',\n",
              "       'Pago de Larrainzar', 'Ukan Winery', 'Vina Real',\n",
              "       'Dominio de Atauta', 'Micro Bio (MicroBio)',\n",
              "       'Terroir Al Limit Soc. Lda', 'Finca Torremilanos',\n",
              "       'Huerta de Albala', 'Gomez Cruzado', \"Castell d'Encus\",\n",
              "       'Abadia Retuerta', 'Enate',\n",
              "       'Benjamin de Rothschild - Vega Sicilia', 'Bodegas Aragonesas',\n",
              "       'Telmo Rodriguez', 'Acustic Celler', 'Vina Pedrosa', 'Pintia',\n",
              "       'Belondrade', 'Muga', 'Clos Mogador', 'Bodegas Tradicion',\n",
              "       'Senorio de San Vicente', 'Francisco Barona', 'Juan Gil', 'Lan',\n",
              "       'R. Lopez de Heredia', 'Adama Wines', 'Milsetentayseis',\n",
              "       'Espectacle del Montsant', 'Tinto Pesquera', 'Ferrer Bobet',\n",
              "       'Familia Torres', 'Pazo Barrantes', 'Tio Pepe', 'Cruz de Alba',\n",
              "       'Emilio Rojo', 'Dominio de Es', 'Jesus Madrazo',\n",
              "       'Bodegas Naluar & Acediano', 'Marques de Caceres', 'Trus',\n",
              "       'Mestres', 'Chivite', 'Bodega Ribas', 'Vinas del Cenit',\n",
              "       'Mas del Serral', 'Cervoles', 'Diez Merito', 'Marques de Burgos',\n",
              "       'Penafiel', 'Tobia', 'Tresmano - Tr3smano', 'Sei Solo',\n",
              "       'Finca Villacreces', 'Virgen de la Asuncion', 'Romate',\n",
              "       'Sara Perez y Rene Barbier', 'Dehesa del Carrizal', 'Tarsus',\n",
              "       'Beronia', 'Monte Real', 'Divina Proporcion',\n",
              "       'Vina al Lado de la Casa', 'Marques de la Concordia',\n",
              "       'Agusti Torello Mata', 'Dominio de Cair', 'Valquejigoso',\n",
              "       'Veigamoura', 'Vizcarra', 'Legaris', 'Federico Paternina',\n",
              "       'Vinicola Real', 'Losada', \"Clos d'Agon\", 'Sacristia AB',\n",
              "       'Uvaguilera Aguilera', 'Emilio Hidalgo', 'Altos del Terral',\n",
              "       'El Regajal', 'Valderiz', 'Jose Pariente', 'Amos Baneres',\n",
              "       'Scala Dei', 'Bodegas Valdelana', 'Abel Mendoza Monge', 'Anayon',\n",
              "       'Sierra Salinas', 'Vinos Sanz', 'Cerro San Cristobal',\n",
              "       'Altos de Rioja',\n",
              "       'Bodegas Celler Francisco Castillo - Clos Dominic',\n",
              "       'La Vinya del Vuit', 'Venus la Universal', 'Pedralonga', 'Atalaya',\n",
              "       'Matsu', 'Marques de Vargas', 'Volver', 'Tridente', 'Ausas',\n",
              "       'Cillar de Silos', 'Imperial', 'Ramos-Paul', 'Bodega de Bardos',\n",
              "       'Rodriguez Sanzo', 'Antidoto', 'Bosque de Matasnos', 'Altanza',\n",
              "       'Remelluri', 'Perinet', 'La Vicalanda', 'Monovar', 'Alvaro Domecq',\n",
              "       'Los Aguilares', 'Bodega Rento', 'Dominio do Bibei',\n",
              "       'Marco Abella', 'Javier Sanz Viticultor', 'Protos', 'Harveys',\n",
              "       'Orben', 'Jaro', 'Bodegas Ximenez-Spinola', 'Bodegas El Paraguas',\n",
              "       'Mustiguillo', 'Vina Pomal', 'Astrales', 'Merum Priorati',\n",
              "       'Hacienda Lopez de Haro', 'Cayetano del Pino', 'La Unica',\n",
              "       'Pazo Senorans', 'Fefinanes', 'Resalte', 'Figuero', 'Pinea',\n",
              "       'Portal del Priorat', 'Cims de Porrera', 'Casa Rojo', 'Murua',\n",
              "       'Vinyes Domenech', 'Pago de Vallegarcia', 'Eulogio Pomares',\n",
              "       'Sangenis I Vaque', 'Delgado Zuleta', 'VALENCISO', 'Mas Perinet',\n",
              "       'Luis A. Rodriguez Vazquez', 'Chozas Carrascal',\n",
              "       'Alonso del Yerro', 'Clos Figueras', 'Bodegas Monte La Reina',\n",
              "       'Ontanon', 'Alta Alella', 'Bodega Elias Mora', 'Joan Simo',\n",
              "       'Can Axartell', 'Juan Pinero', 'Mas Llunes', 'Bodegas Frontaura',\n",
              "       'Roig Parals', 'Avgvstvs', 'Jorge Ordonez', 'Ramon Bilbao', 'Leda',\n",
              "       'Enric Soler', 'Es Fangar', 'Cal Batllet - Celler Ripoll Sans',\n",
              "       'Llopart', 'Portia', 'Ostatu', 'Finca Valpiedra', 'Baigorri',\n",
              "       'Vivaltus', 'Comenge', 'Collbaix Celler El Moli',\n",
              "       'Martinez Lacuesta', 'Pujanza', 'Albet i Noya', 'Olivier Riviere',\n",
              "       'Bodegas Tierra', 'Torre de Ona',\n",
              "       'Do Ferreiro (Bodegas Gerardo Mendez)', 'Martin Codax',\n",
              "       'Vinedos Hermanos Hernaiz', 'Freixenet', 'Azpilicueta',\n",
              "       'Veronica Salgado', 'Clos Galena',\n",
              "       'Bodegas Imperiales - Abadia de San Quirce', 'Marta Mate',\n",
              "       'Venta Las Vacas', 'Pago Calzadilla', 'Vivanco', 'Fernandez Gao',\n",
              "       'Museum', 'Farina', 'Galindo San Millan', 'Bodegas Casa Primicia',\n",
              "       'Castell Miquel', 'Barco del Corneta', \"Joan d'Anguera\", 'Xaloc',\n",
              "       'Carlos Moro', 'Bodegas Luis Perez', 'Ladairo',\n",
              "       \"Conreria d'Scala Dei\", 'Traslascuestas', 'Lopez Cristobal',\n",
              "       'Codorniu', 'Sota els Angels', 'Berceo', 'Mas Blanch I Jove',\n",
              "       'Carlos Serres', 'David Moreno', 'Edra', 'Valdelosfrailes',\n",
              "       'Briego', 'Guillem Carol - Cellers Carol Valles', 'Barahonda',\n",
              "       'Particular', 'Bodegas Frontonio', 'Bodegas Asenjo & Manso',\n",
              "       'Luis Canas', 'Garmon', 'Williams & Humbert', 'Condado de Haza',\n",
              "       'Lustau', 'Bodegas Faustino', 'St. Petroni', 'Llanos Negros',\n",
              "       'Aster', 'Avancia', 'Marques de Tomares', 'Quinta Sardonia',\n",
              "       'Abadal', 'Hermanos Pecina', 'Biniagual', 'Breca', 'Pradorey',\n",
              "       'Terras Gauda', 'Bodega Tesalia', 'Pazo de Rubianes', 'Godeval',\n",
              "       'Bodegas Olarra', 'Taron', 'Sonsierra', 'Vins Miquel Gelabert',\n",
              "       'El Grillo y La Luna', 'De Moya', 'Campillo', 'Jean Leon',\n",
              "       'Bodegas Ateca', 'Bodega Campo Eliseo', 'Fernandez de Pierola',\n",
              "       'De Muller', 'Monteabellon', 'Pepe Mendoza Casa Agricola',\n",
              "       'Vinos Guerra', 'Neo', \"Terra d'Uro\", 'Zarate', 'Noelia Bebelia',\n",
              "       'Marti Fabra', 'Palmeri Sicilia', 'Mas Que Vinos',\n",
              "       'Bodegas Estraunza', 'Pittacum', 'Bodega Sommos',\n",
              "       'Celler de Capcanes', 'Arinzano', 'Pago del Vostal', 'Habla',\n",
              "       'Rodriguez de Vera', 'Callejuela', 'El Maestro Sierra',\n",
              "       'Paco & Lola', 'Valtravieso', 'Costers del Priorat',\n",
              "       'Bodegas Urium', 'Bodega Otazu', 'Perez Barquero', 'Oller del Mas',\n",
              "       'Bodegas Clunia', 'Bodegas Ochoa', \"Ca l'Apotecari\",\n",
              "       'Josep Grau Viticultor', 'Fos', 'Hacienda Grimon', 'Capafons-Osso',\n",
              "       'Can Rafols dels Caus', 'Raul Perez', 'Dominio de la Vega',\n",
              "       'Juve & Camps', 'Mas de les Pereres', 'Guilera',\n",
              "       \"l'Infernal Combier Fischer Gerin\", 'Jorge Piernas', 'Balandro',\n",
              "       'M. Antonio de la Riva', 'Espelt', 'Bodegas Arfe', 'Real de Asua',\n",
              "       'Vinyes dels Aspres', 'Valserrano', 'Shaya', 'Finca Rio Negro',\n",
              "       'Loxera', 'Dominio Fournier', 'Bodegas Yzaguirre', 'Neton',\n",
              "       'Bodega Aida i Luis', 'Cartoixa de Montsalvat',\n",
              "       'El Lagar de Isilla', 'Anibal de Otero', 'Altos del Enebro',\n",
              "       'Albamar', 'Can Bas', 'Atlantida', 'Atlan & Artisan', 'Olivardots',\n",
              "       'Lar de Paula', 'La Val', 'Tres Piedras', 'Javi Revert',\n",
              "       'Lambuena', 'Attis', 'San Cobate', 'Santa Petronila',\n",
              "       'Jimenez-Landi', 'Hidalgo (La Gitana)', 'Gallina de Piel', 'Arid',\n",
              "       'Bodegas Reyes', 'Hugas de Batlle', 'Bodegas Arrocal',\n",
              "       'Buil & Gine', 'Castell del Remei', 'Valdubon',\n",
              "       'Bodegas Y Vinedos Alilian', 'Sebio', 'Goyo Garcia Viadero',\n",
              "       'Santiago Ruiz', 'Mauro Estevez', 'Mas Bertran', 'Bodegas Gama',\n",
              "       'Edetaria', 'Hacienda Zorita Natural Reserve', 'Ton Rimbau',\n",
              "       'Can Xanet', 'A Coroa', 'Alonso & Pedrajo', 'Mandia Vell',\n",
              "       'Bodega Juan Carlos Sancha', 'Valdecuevas', 'Algueira', 'Mocen',\n",
              "       'Estones', 'Bodega Tameran', 'Inurrieta', 'Flor de Chasna',\n",
              "       'Lagar de Sabariz', 'Naia', 'AGE', 'Navajas', 'Vinyes del Terrer',\n",
              "       'Cepas Familiares', 'Dominio de Loalva', 'Zifar',\n",
              "       'Bordalas Garcia', 'Rimarts', 'Pinna Fidelis', 'Loess',\n",
              "       'Dominio de Anza', 'Samsara', 'Cuentavinas', 'Felix Solis',\n",
              "       'El Coto', 'Mar de Frades', 'Montecastro', 'Bodegas La Horra',\n",
              "       'Baluarte', 'Hispano Suizas', 'Murviedro', 'Diez Caballero',\n",
              "       'Vegalfaro', 'Palacios Remondo', 'Fernando de Castilla',\n",
              "       'Bohorquez', 'Adega Familiar Eladio Pineiro', 'Culebron',\n",
              "       'Enrique Mendoza', 'Clos Pons', 'Ramon do Casar', 'Binigrau'],\n",
              "      dtype=object)"
            ]
          },
          "metadata": {},
          "execution_count": 187
        }
      ]
    },
    {
      "cell_type": "code",
      "source": [
        "df['wine'].unique()"
      ],
      "metadata": {
        "colab": {
          "base_uri": "https://localhost:8080/"
        },
        "id": "DfNqmkRFge7q",
        "outputId": "52c87074-ec62-47a5-8dce-460bcfe34f85"
      },
      "execution_count": null,
      "outputs": [
        {
          "output_type": "execute_result",
          "data": {
            "text/plain": [
              "array(['Tinto', 'Vina El Pison', 'Unico',\n",
              "       'Unico Reserva Especial Edicion', 'El Anejon',\n",
              "       'Don PX Convento Seleccion', 'Cuesta de Las Liebres', 'El Nido',\n",
              "       'Toneles Moscatel', 'Pingus', 'Don PX Pedro Ximenez',\n",
              "       \"L'Ermita Velles Vinyes Priorat\", 'Vatan Arena Tinta de Toro',\n",
              "       'Ribera Del Duero Gran Reserva 12 Anos', 'Pesus Ribera del Duero',\n",
              "       'Magico', 'La Faraona Bierzo (Corullon)', 'Gran Reserva 890',\n",
              "       'Valbuena 5o', 'Castillo Ygay Gran Reserva Especial Blanco',\n",
              "       'La Nieta', 'Malleolus de Valderramiro',\n",
              "       'Malleolus de Sanchomartin', 'Alabaster', 'La Mula de la Quietud',\n",
              "       'Terreus Paraje de Cueva Baja', 'Contador Rioja',\n",
              "       'Maria Remirez de Ganuza', 'Cartago Paraje de Pozo',\n",
              "       'Parcela El Picon Tinto', 'Termanthia', 'Clon De La Familia',\n",
              "       'Aquilon Garnacha', 'Quinon de Valmira',\n",
              "       '1902 Centenary Carignan Priorat', 'Tintilla de Rota',\n",
              "       'Cirsion Rioja', 'Cami Pesseroles', \"Turo d'en Mota\", 'Priorat',\n",
              "       'Reliquia Palo Cortado Sherry', 'Anada Palo Cortado 1987',\n",
              "       'Daphne Glorian Red', 'El Regollar', 'Abuelo Diego Palo Cortado',\n",
              "       'La Bota 78 de Oloroso', 'Touran', 'Luthier Gran Reserva',\n",
              "       'Sorte O Soro Val do Bibei',\n",
              "       'Reserva Particular de Recaredo Brut Nature', 'Usted',\n",
              "       'Gran Reserva', 'Regina Vides Ribera del Duero', 'La Loma',\n",
              "       'Recondita Armonia Monastrell Dulce',\n",
              "       'Castillo Ygay Gran Reserva Especial Tinto', 'Ribera del Duero',\n",
              "       'PS (Pagos Seleccionados) Ribera del Duero', 'Flor de Pingus',\n",
              "       'Pago De Valtarrena', 'El Titan del Bendito', 'Dalmau Rioja',\n",
              "       'Finca el Bosque', 'Pago de Santa Cruz', 'Clos Fonta Priorat',\n",
              "       'Cuvee N Vinas Viejas',\n",
              "       'Ribera del Duero Prestigio Pago de las Solanas',\n",
              "       \"Nit de Nin Mas d'en Cacador\", 'VS', 'Blecua Somontano',\n",
              "       'Frank Gehry Selection', 'Amaya Arzuaga (Coleccion)',\n",
              "       'La Creu Alta', '5o Ano Ribera del Duero Tinto', 'Planots Priorat',\n",
              "       'Capitel', 'Gran Arzuaga Ribera del Duero', 'Horcajo', 'Aurus',\n",
              "       \"Dolc de L'Obac\", 'Trasnocho',\n",
              "       'Doroteo Edicion Especial 25 Aniversario',\n",
              "       'Tierra Alta de 2 Racimos Gran Reserva',\n",
              "       'Reserva Especial Ribera del Duero', 'Reserva Especial',\n",
              "       'Gran Buig Priorat', 'Finca Garbet',\n",
              "       'Solera India Oloroso Rare Sherry', 'Amancio',\n",
              "       'Gines Liebana Pedro Ximenez', 'Don PX Seleccion', 'Reserva',\n",
              "       'Finca Las Naves', 'AAA', 'Vina del Olivo',\n",
              "       'Les Aubaguetes Priorat',\n",
              "       'Cava Enoteca Finca La Plana Brut Nature',\n",
              "       'Gran Reserva Penas Aladas', 'Pena Lobera',\n",
              "       'Adega do Moucho Treixadura', 'Son Negre', 'Casa Cisca Monastrell',\n",
              "       'Moncerbal Bierzo (Corullon)', 'Capricho',\n",
              "       'Cerrado del Castillo Rioja', 'Kalamity Rioja',\n",
              "       'Conde de Aldama Amontillado', 'Respeto',\n",
              "       'El Garnacho Viejo de la Familia Acha',\n",
              "       'Ribera del Duero Prestigio', 'Finca Misenhora Edicion Limitada',\n",
              "       'La Poza de Ballesteros', 'Reserva Rioja (Finca Ygay)', 'Idus',\n",
              "       'Rosado de Larrainzar', 'Valdafoz Bierzo (Corullon)',\n",
              "       'Rioja Gran Reserva', 'Valdegatiles Ribera del Duero',\n",
              "       'Respublica Verdejo', 'Les Tosses',\n",
              "       'Torremilanos Coleccion Ribera del Duero', 'El Carretil',\n",
              "       'Taberner No. 1', 'Vina Motulleri', 'Saktih', 'Cuvee Palomar',\n",
              "       'Uno Tinto', 'Macan', '1903 Centenary Grenache',\n",
              "       'Galiano Seleccion Especial', 'Molino Real',\n",
              "       'Etern Vinyes Molt Velles', '40 Aniversario Gran Reserva',\n",
              "       'Solera BC-200',\n",
              "       'Corpinnat Enoteca Reserva Particular de Recaredo', 'Toro', 'Clio',\n",
              "       'Garnacha', 'Parcela El Nogal Tinto', 'Belondrade y Lurton',\n",
              "       'Rioja Reserva', 'Prado Enea Gran Reserva',\n",
              "       'Pedro Ximenez Tradicion 20 Years Old Vos', 'Torre Muga', 'Aro',\n",
              "       'San Vicente Rioja', 'Ribera del Duero TSM',\n",
              "       'Ribera Del Duero Reserva Premium 6 Anos', \"Clos de L'Obac\",\n",
              "       'Reserva Ribera del Duero', 'Ribera Del Duero', 'Bruto',\n",
              "       'Culmen Reserva Rioja', 'Vina Tondonia Gran Reserva',\n",
              "       'Petit Verdot', 'Clos Martinet', 'Millenium Gran Reserva',\n",
              "       'Finca Dofi', 'Gran Reserva Ribera del Duero',\n",
              "       'Seleccio Especial Vinyes Velles', 'Calvario Rioja',\n",
              "       'Ribera del Duero Una Cepa I', 'Grans Muralles',\n",
              "       'Gran Vino Albarino', 'Cuatro Palmas Amontillado', 'Pago Garduna',\n",
              "       'La Cueva del Contador Rioja', 'Solera 1830 Pedro Ximenez',\n",
              "       'Que Bonito Cacareaba Blanco', 'Baron de Chirel Rioja Reserva',\n",
              "       'Emeritvs (Emeritus)', 'Finca Los Hoyales Ribera del Duero',\n",
              "       'Blanco', 'La Basseta', 'Territorio Luthier Reserva',\n",
              "       'Vinas Viejas de Soria Ribera Del Duero',\n",
              "       'Pago de Santa Cruz Gran Reserva Ribera del Duero',\n",
              "       'As Sortes Val do Bibei Godello', 'Seleccion Rioja',\n",
              "       'Millenium Reserva', 'Acediano', 'Gaudium', 'Pico de Luyas',\n",
              "       'Grandes Anadas Rioja', 'Mas Via Gran Reserva Brut',\n",
              "       'Navarra Coleccion 125 Blanco', 'Chardonnay Uno',\n",
              "       'Don PX Vieja Cosecha', 'Ribas de Cabrera', 'Cenit',\n",
              "       'Mas del Serral', 'Estrats', 'Fino Imperial Amontillado 30 Anos',\n",
              "       'Coliseo Amontillado VORS', 'Vina Tondonia Gran Reserva Blanco',\n",
              "       '8000', 'Mironia Black Edition Tempranillo', 'Miserere',\n",
              "       'Alma Tobia Rioja', 'Tm', 'Doix', 'Nebro Ribera del Duero',\n",
              "       'El Canto del Angel', 'Rioja Blanco Reserva',\n",
              "       'Cayetano del Pino Viejisimo Palo Cortado',\n",
              "       'Gratallops Partida Bellvisos', 'Coleccion Privada',\n",
              "       'Finca El Canto', 'Finca Cascorrales', 'Rioja Gran Reserva 904',\n",
              "       'Marques de Poley Amontillado Seleccion 1951', 'Platon Tinto',\n",
              "       'Altos de Las Gateras Monastrell', 'Canta la Perdiz',\n",
              "       'Marques de la Concordia VSG Premium (formerly Hacienda de Susar Rioja)',\n",
              "       'Cava Kripta Gran Reserva Brut Nature',\n",
              "       'Alba de Miros Rueda Verdejo', 'Pendon De La Aguilera', 'V2 Tinto',\n",
              "       'Celia', 'Calmo', 'Confesor Rioja', 'La Bienquerida',\n",
              "       'Seleccion Especial', 'Saca Unica', 'Palomero', 'Grano a Grano',\n",
              "       'Santa Ana Pedro Ximenez 1861', 'Cuvee Julia Ribera del Duero',\n",
              "       'Las Lamas Bierzo (Corullon)',\n",
              "       '200 Monges Rioja Reserva Seleccion Especial', 'Galia Clos Santuy',\n",
              "       'Tomas Esteban', 'Finca Las Comas Verdejo', 'Diables',\n",
              "       'St Antoni de Scala Dei Priorat', 'Valdegines',\n",
              "       'Seda de Oro Reserva', 'Grano a Grano Graciano - Garnacha',\n",
              "       'Carraquintana de Amaren', 'Garnacha Parcela 81 Vinas Viejas',\n",
              "       \"Cava Enoteca Finca de L'Origen Brut Nature\", 'Salinas 1237',\n",
              "       'Cabernet Sauvignon', 'Finca La Colina Sauvignon Blanc',\n",
              "       'Dominio del Verso Red Blend',\n",
              "       'Altos R Pigeage Nacido en Barrica Blanco', 'Vinyes Altes Porrera',\n",
              "       'La Vinya del Vuit (8)', 'Venus de la Figuera', 'Vendetta',\n",
              "       'Ribera del Duero Reserva', 'Malleolus',\n",
              "       'Seleccion Especial (Reserva)', 'Cosecha', 'Red',\n",
              "       'Vina Ardanza Reserva', 'Roda I Reserva Rioja',\n",
              "       '3er Ano Ribera del Duero Tinto', 'Macan Clasico',\n",
              "       'Alaya Tierra (Old Vines Vieilles Vignes)', 'El Viejo',\n",
              "       'Hacienda Pradolagar', '200 Monges Rioja Reserva', 'Reserva Tinto',\n",
              "       'Jumilla Blue Label',\n",
              "       'Palo Cortado Tradicion Vors 30 Years Sherry', 'Triga',\n",
              "       'Amontillado Tradicion Vors 30 Years', 'Victorino',\n",
              "       'Reserva Privada Rioja', 'Pago Negralada', 'Rejon Tempranillo',\n",
              "       'Interpretacion', 'Vendimia', 'Priorat Vinyes Velles',\n",
              "       'Tempranillo Reserva', 'Cream Tradicion Vos 20 Years',\n",
              "       'Vatan Tinta de Toro', 'Dominio del Pidio', 'Pagos Viejos', 'An',\n",
              "       'Numanthia', 'Suprema 30 Meses',\n",
              "       'Whisba Tempranillo Aged 18 Months in Whisky Barrels',\n",
              "       'A Mano Rioja', '200 Monges Rioja Gran Reserva',\n",
              "       'La Hormiga de Antidoto', 'Le Domaine Blanco de Guarda',\n",
              "       'Edicion Limitada',\n",
              "       'Lealtanza Coleccion de Artistas Espanoles Sorolla',\n",
              "       'Granja Gran Reserva Rioja',\n",
              "       'Perez Pascuas Gran Reserva Seleccion', 'El Puntido Gran Reserva',\n",
              "       'Cuvee Old Vines Unfiltered', 'Fondillon', '1730 Pedro Ximenez',\n",
              "       'Cirerets', 'Vinas Viejas Verdejo', 'Tadeo Tinto',\n",
              "       'Tierras de Cair Reserva', 'Gran Reserva Rosado',\n",
              "       'Cava Celler Batlle', 'Rioja Blanco', 'Lapola',\n",
              "       'Clos Abella Seleccion Especial', 'Pie Franco',\n",
              "       'Singular V Malcorta Verdejo', 'Serral del Vell Brut Nature',\n",
              "       'Seleccion Finca el Grajo Viejo',\n",
              "       '30 Years VORS Pedro Ximenez Sherry', 'Malpuesto', 'Chafandin',\n",
              "       'La Vina de Andres Romeo Rioja', 'Delicado Cosecha Pedro Ximenez',\n",
              "       'Atlantico', 'Quincha Corral', 'Els Escurcons',\n",
              "       'Vinos Singulares Tempranillo Blanco Reserva',\n",
              "       'Christina Ribera del Duero', 'Desti',\n",
              "       'Gran Reserva Classica Tinto', 'Godello Blanco',\n",
              "       'Palo Cortado 1/10', 'Fourth Edition',\n",
              "       'Seleccion de Anada Albarino Rias Baixas',\n",
              "       'Albarino de Fefinanes III Ano', 'Perpetual', 'El Cel',\n",
              "       'Montes Obarenes Seleccion Terroir', 'Porrera Vi de Vila',\n",
              "       'Gran Ribera del Duero', 'Heretge Priorat', 'Vinas Viejas',\n",
              "       'Sibarita Oloroso Jerez-Xeres-Sherry 30 Years V.O.R.S', '17',\n",
              "       'Clos del Portal Tros de Clos', 'Classic', 'Minami',\n",
              "       'Vi de Vila Gratallops', 'Veguin de Murua Gran Reserva',\n",
              "       'O Luar do Sil Valdeorras Godello Sobre Lias', 'Teixar',\n",
              "       'Anada Pedro Ximenez', 'Clos del Portal Somni', 'Les Manyes',\n",
              "       'Emporda Aires de Garbet', 'Montes de Toledo Syrah',\n",
              "       'Maceracion Con Pieles', 'Clos Monlleo',\n",
              "       'B.Rodriguez La-Cave Quo Vadis?', 'La Solana Alta',\n",
              "       'Rioja Reserva 10 Anos Despues Edicion Limitada', 'Perinet + Plus',\n",
              "       'Vina de Martin Escolma Ribeiro', 'Ribera del Duero Torralvo',\n",
              "       'El Cabernet F - Familiar', 'Premium', 'Hipperia Red Blend',\n",
              "       'Maria Ribera del Duero', 'Vendimia Seleccionada', 'Clos Figueres',\n",
              "       'Castillo de Monte la Reina Cuvee Privee', 'Amontillado Saca',\n",
              "       'Queiron Reserva Vinedos Familiares', 'Don PX Gran Reserva',\n",
              "       'Llanos del Almendro Ribera del Duero', 'Dolc Mataro',\n",
              "       'Toro 2V Premium', 'Les Eres Vinyes Velles',\n",
              "       'Gran Reserva Classica Blanco', 'The Artist',\n",
              "       'Amontillado 30 Years Old V.O.R.S Sherry',\n",
              "       'La Comtesse de Pazo Barrantes Albarino', '5V Blanco',\n",
              "       'Finca Butaros Vinya Centenaria', 'Seleccion Privada',\n",
              "       \"Aponte Winemaker's Private Collection Tempranillo\",\n",
              "       'Cami de Cormes', '1194', 'Malabrigo Ribera del Duero',\n",
              "       'Old & Plus Pedro Ximenez', 'Reserva Trajanvs', 'No. 2 Victoria',\n",
              "       'Emporda Gran Claustro', 'Lalomba Finca Valhonta', 'Manyetes',\n",
              "       'Pago Valdebellon', 'Guarda de Leda Seleccion Tempranillo',\n",
              "       'Nun Vinya dels Taus', 'Lo Cortinelo.Lo Blanc',\n",
              "       '5 Partides Gratallops Vi de La Vila',\n",
              "       'Cava Ex-Vite Gran Reserva Brut', 'Summa Edicion Limitada',\n",
              "       'Pago El Espino', 'Gloria Rioja', 'Petra de Valpiedra Garnacha',\n",
              "       'Alto de la Caseta', 'Mas de la Rosa', 'Rioja B70', 'Don Miguel',\n",
              "       'Singular Negre', 'Rioja Reserva Especial', 'Rioja Cisma',\n",
              "       'Martires Rioja', 'Cava Original Brut (Espumos)',\n",
              "       'Marti Reserva Penedes', 'Vina Ardanza Reserva Seleccion Especial',\n",
              "       'Oloroso 30 Years Old V.O.R.S', 'Pozo Alto',\n",
              "       'El Cristo de Samaniego', 'El Belisario',\n",
              "       'Baron de Ona Rioja Reserva', 'Cepas Vellas Rias Baixas Albarino',\n",
              "       'La Aguilera', 'Pirata', 'Hispania', 'Arousa',\n",
              "       'Las Cenizas Tempranillo', 'Solanes Priorat',\n",
              "       'Cava Cuvee De Prestige Trepat',\n",
              "       'Felix Azpilicueta Coleccion Privada', 'Savinat Sauvignon Blanc',\n",
              "       'Capricho Crianza', 'Finca La Emperatriz Vinedo Singular Tinto',\n",
              "       'Galena', 'Solera PAP Palo Cortado Rare Sherry', 'Finca Helena',\n",
              "       'Primordium', 'La Cuartilleja Reserva', 'Noble', 'De Garage Rioja',\n",
              "       'Gran Calzadilla', '4 Varietales Coleccion Rioja', 'Oloroso',\n",
              "       'Numerus Clausus',\n",
              "       '200 Monges Rioja Seleccion Especial Reserva Blanco',\n",
              "       '30 Years V.O.R.S Very Old Palo Cortado Blend Medium Sherry',\n",
              "       'Campus Gothorum', 'La Pizca', 'La Bota 90 de Manzanilla Pasada',\n",
              "       'Moradillo de Roa', 'Cofradia', 'Stairway To Heaven Rosado',\n",
              "       'La Silleria', 'Planella', 'Gallaecia Rias Baixes Albarino',\n",
              "       'Monada', 'Verdejo', 'Vina Garugele', 'Barrica', 'Voltons',\n",
              "       'Ekam Essencia', 'Valcavado de Traslascuestas',\n",
              "       'Oscar Tobia Gran Reserva Rioja', 'La Baixada', 'Seleccion',\n",
              "       'Cava El Tros Nou Pinot Noir',\n",
              "       'Los Dominios de Berceo Prefiloxerico', 'Old & Plus Amontillado',\n",
              "       'Sao Expressiu', 'Onomastica Rioja Reserva',\n",
              "       'Vina Arana Gran Reserva', 'Carinena Parcela 15 Vinas Viejas',\n",
              "       'Vobiscum', 'La Navilla', 'Merlot - Syrah',\n",
              "       'Casta Diva Cosecha Miel Moscatel Dulce', 'Pago de Las Costanas',\n",
              "       'Cava Gran Reserva Familiar Millenium Brut',\n",
              "       'Zona Zepa Monastrell', 'Alma Tobia Blanco',\n",
              "       'Garnacha Vinas Centenarias',\n",
              "       'El Jardin de las Iguales Vinedo Historico Garnacha',\n",
              "       'Silvanus Edicion Limitada Ribera del Duero',\n",
              "       'San Valentin Parellada', 'Vina Tondonia Reserva', 'PSI',\n",
              "       'Ribera del Duero Crianza', 'Mas La Plana Cabernet Sauvignon',\n",
              "       'Crianza Tinto', 'Bosque de Matasnos Etiqueta Blanca',\n",
              "       'Matusalem Sherry VORS', 'Reserva Seleccion de la Familia',\n",
              "       'Apostoles 30 Years Old Sherry', 'Gran Reserva Rioja (Finca Ygay)',\n",
              "       'El Puntido',\n",
              "       'Don Guido Pedro Ximenez Solera Especial Aged 20 Years',\n",
              "       'Gran Reserva Rioja', 'La Baraja', 'Finca Malaveina', 'Reserva XR',\n",
              "       'Alenza Ribera del Duero Gran Reserva',\n",
              "       'Chardonnay Fermentado en Barrica', 'Alicante Bouschet by Tarima',\n",
              "       'Oloroso Tradicion Vors 30 Years', 'Dominio de Atauta', 'Crianza',\n",
              "       'Laurel', 'Seleccion La Aguilera', 'Finca Martelo',\n",
              "       'Pedro Ximenez Murillo Seleccion del Centenario', 'Mirto',\n",
              "       'I Gran Reserva', 'Roda Reserva Rioja', 'Rioja Vina Coqueta',\n",
              "       'Vermello Vermu', 'Capellania Reserva', 'Los Tabaqueros',\n",
              "       'Torre Albeniz Reserva Ribera del Duero', 'Finca El Otero',\n",
              "       'Familia Comenge Reserva', 'Tierra Alta de 2 Cotas Reserva',\n",
              "       'Fagus de Coto de Hayas Garnacha', 'Finca Terrerazo', 'Godello',\n",
              "       'Godina Garnacha', 'QS', 'Don Miguel Comenge Reserva', '3.9',\n",
              "       'Finca Iscorta Gran Reserva', 'Finca Biniagual Veran',\n",
              "       'Brega Garnacha', 'Elite', 'La Mar', 'Nelin Priorat',\n",
              "       'Arcos de la Frontera', 'Albarino', 'Cepas Vellas Godello',\n",
              "       'Las Sabias', 'Cerro Anon Rioja Gran Reserva', 'Ekam', 'Masdeu',\n",
              "       'Pantocrator', 'Senorio de Cuzcurrita Rioja',\n",
              "       'Silencio de Miros Ribera Del Duero', 'Queiron Mi Lugar',\n",
              "       'Purgatori Costers del Segre', 'Perfume de Sonsierra',\n",
              "       'Chardonnay Roure', 'Rioja Graciano', 'ARX Arcos de la Frontera',\n",
              "       'Navarra Reserva Coleccion 125', 'Venus', 'Grillo',\n",
              "       'Prieto Picudo', 'Sofia', 'Finca Cuesta Clara Raro Reserva',\n",
              "       'Fermentado En Barrica Blanco', 'Ribera Del Duero Gran Reserva',\n",
              "       'Vinya La Scala Gran Reserva Cabernet Sauvignon',\n",
              "       'Atteca Armas Garnacha Old Vines', 'Syrah (Shiraz)',\n",
              "       'Campo Eliseo', 'Vinas Viejas Tempranillo', 'Vitium Reserva',\n",
              "       'Lo Cabalo Reserva', 'Finca Matambres', 'Suzzane Rioja',\n",
              "       'Giro de Abargues', 'Reserva Vermouth Rojo', 'Punta Esencia',\n",
              "       'Pla dels Angels Rosado', 'Uro', 'Tras da Vina Albarino',\n",
              "       'Masia Carreras Negre', 'Branco Vermu', 'Palmeri Navalta Garnacha',\n",
              "       'La Plazuela', 'Solar de Estraunza Reserva', 'III a.C',\n",
              "       'Matallana', 'Rioja Norte', 'Artigas', 'Julia',\n",
              "       'Jerez-Xeres-Sherry 30 Year Old Oloroso VORS', 'Pancrudo', 'Aurea',\n",
              "       'Coleccion Syrah', \"Flor de Primavera Peraj Ha'abib\",\n",
              "       'Altos de Losada El Cepon', 'Gran Vino Blanco',\n",
              "       'Crianza Vendimia Seleccionada', 'Vermouth Reserva',\n",
              "       'Finca Azaya Premium', 'Ribera del Duero Tinto', 'No. 20',\n",
              "       'La Casilla Amontillado', 'Palo Cortado', 'Martelo Reserva',\n",
              "       'Vintage Albarino', 'Cardenal Palo Cortado VORS',\n",
              "       'Vallegarcia Viognier', 'Finca la Atalaya Reserva',\n",
              "       'Clos Cypres Vinyes Velles (Old Vines)', 'Castineiro Albarino',\n",
              "       'Amontillado V.O.R.S', 'Altar',\n",
              "       'Gran Barquero Palo Cortado Solera 25 Anos',\n",
              "       'Toro Gran Elias Mora', 'Arnau Oller Seleccio de la Familia',\n",
              "       'Orbus', 'Malbec', 'Altos de Losada', 'Reserva Especial Rioja',\n",
              "       'La Time', 'Vendimia Tardia Moscatel', 'Hiru 3 Rioja Racimos',\n",
              "       'Triaca', 'Amontillado 51-1a 30 Years VORS Sherry', 'Cyclo',\n",
              "       'Maimo Garnatxa', 'Fos Baranda', 'Finca la Oracion',\n",
              "       'Albarino Pedralonga', 'Mas de Masos', 'Com Tu', 'El Rocallis',\n",
              "       'Iugiter', 'Ultreia Valtuille Mencia', 'La Chispa Negra',\n",
              "       'Sauvignon Blanc', 'Clos Adrien', 'Laderas Rioja',\n",
              "       'Blanco de Parcela', 'Finca la Beata Bobal', 'Resalte Expresion',\n",
              "       'Cava Brut Milesime', 'Syrah de Matasnos',\n",
              "       'Massipa de Scala Dei Garnatxa Blanca - Xenin', 'Nunci Negre',\n",
              "       'Oloroso Extra Viejo 1/7', 'Musivari Gran Reserva Brut Nature',\n",
              "       'Faustino de Autor Reserva Especial', 'Vinas Viejas Aguilera',\n",
              "       'Juan Piernas Finca El Paso Malo Monastrell', 'Pedra de Guix',\n",
              "       'Vinyes Velles de Samso', 'Malvasia', 'La Bota 69 de Amontillado',\n",
              "       'Antigues Reserves', 'Baron de Chirel Verdejo Vinas Centenarias',\n",
              "       'Milagros de Figuero', 'Las Botas Palo Cortado Horizontal',\n",
              "       'La Riva Fino Balbaina Alta', 'Coma Bruna',\n",
              "       'Palo Cortado de la Cruz de 1767', 'Grano a Grano Tempranillo',\n",
              "       \"S'Alou\", 'Altos R Pigeage', 'Finca Monteviejo', 'Habis', '5o Ano',\n",
              "       'Gaminde', 'Varietal Fermentacion Lenta',\n",
              "       'El Cordero y las Virgenes',\n",
              "       'Selection 1884 Vermouth Gran Reserva', 'Garnacha Tintorera',\n",
              "       'Penalba Lopez Blanco', 'Cabernet', 'El Cuentista',\n",
              "       'Tahulla Moscatel Blanco Seco', 'Juegabolos', 'Sketch',\n",
              "       'Montsalvat', 'Sio Negre', 'Pago de Otazu Chardonnay Con Crianza',\n",
              "       'Verdejo Fermentado en Barrica',\n",
              "       'Vinyes Altes de Les Garrigues Vi Blanc', 'Vina Centenaria Mencia',\n",
              "       'Cerro del Lobo Syrah', 'Summum Monastrell', 'Finca La Herradura',\n",
              "       'Alma de Mar Albarino', 'Canasta 20 Anos Cream',\n",
              "       'Rioja Anadas Frias', 'Monreal', '8 Vents Mallorca',\n",
              "       \"Vd'O 1 Samso - Pissarra\", 'Cava Gran Reserva La Capella Brut',\n",
              "       'Coleccion No. 3 Cosecha', 'Albarino Sobre Lias', 'Nobbis',\n",
              "       'Rara Avis Prieto Picudo', 'Sensal', 'Campo Eliseo Blanco',\n",
              "       'Blanc de Neu', 'T3rno Seleccion de 3 Parcelas Ribera del Duero',\n",
              "       'Fino La Barajuela', 'Parcelas de Maturana Tinta Coleccion Rioja',\n",
              "       'Reserva Real', 'Attis Embaixador Albarino', 'Vitola Reserva',\n",
              "       'San Cucufate Monasterio', 'Tras Los Muros Albarino', 'CM Tinto',\n",
              "       'La Loma & Los Santos Garnacha Blanca - Macabeo',\n",
              "       'Gratallops Escanya-Vella', 'Lalomba Finca Ladero',\n",
              "       'Oloroso En Rama', 'El Reventon Cebreros',\n",
              "       'Amontillado Napoleon Vinos Viejos 30 Year Old Sherry',\n",
              "       'Navarra Vendimia Tardia Coleccion 125', 'Manar dos Seixas',\n",
              "       '200 Monges Edicion Exclusiva Blanco Reserva',\n",
              "       'Eolic Sauvignon Blanc',\n",
              "       'Finca Valmediano Tinta de Toro 16 Meses Barrica',\n",
              "       'Cantos del Diablo', 'Teofilo Reyes Crianza', 'Falguera',\n",
              "       'Epistem No. 3', 'Angel Ribera del Duero', 'Pleret',\n",
              "       'A Torna dos Pasas Escolma Ribeiro', 'Costers Del Segre 1780',\n",
              "       'Ines', 'Honoris', 'La Revelia Godello', 'Club Rioja Reserva',\n",
              "       'Camino del Abuelo Vinas Viejas', 'La Morera de San Lazaro',\n",
              "       'Quintanilla', 'Salvaxe', 'Vi De Glass Gewurztraminer',\n",
              "       'Finca Los Quemados', 'Albarino (O Rosal)', 'Rioja',\n",
              "       'Vino de Autor Ribeiro Blanco',\n",
              "       'Argila Reserva 3 Anys Brut Nature', 'Octogenarius',\n",
              "       'Finca La Pedrissa', 'Magister',\n",
              "       'Ribera del Duero Vendimia Seleccionada VT',\n",
              "       'Porcellanic VI Xarel-lo Sur Lie', 'Sibila',\n",
              "       'Emporda Reserva Especial Don Miguel Mateu', '200 Cestos Godello',\n",
              "       'Heaven & Hell', 'Cabrida Montsant', 'Suane Blanco', 'Pinot Noir',\n",
              "       'Cerro La Isa Blanco', 'Cuvee Verdejo', 'Anadelia', 'Tabuerniga',\n",
              "       'Seleccion Especial Verdejo', \"Coster d'en Fornos\",\n",
              "       'Malvasia Volcanica', 'Laderas de Inurrieta', 'El Velado Tinto',\n",
              "       'Blanco Afrutado', 'A Pita Cega', 'Naiades',\n",
              "       'Fuenmayor Gran Reserva', 'Mirador de Navajas Reserva Rioja',\n",
              "       'Coleccion Roberto Amillo Amontillado', '1730 Amontillado',\n",
              "       'Cerro La Isa Garnacha', 'Nus del Terrer', 'Nivel', 'Le Rose',\n",
              "       'Pago de las Sabinas', 'Old & Plus Oloroso',\n",
              "       'Coleccion Roberto Amillo Palo Cortado', 'Gueta-Lupia',\n",
              "       'Marmajuelo', 'Cava Reserva Especial Chardonnay Brut Nature',\n",
              "       'Ribera del Duero Vendimia Seleccionada', 'No. 23',\n",
              "       'Las Iruelas El Tiemblo', 'V Dulce de Invierno', 'Diego Magana',\n",
              "       'Graciano', 'Cerro Las Cuevas Seleccion Terroir',\n",
              "       'Altos R Pigeage Graciano', 'Ronda',\n",
              "       'Nisia Las Suertes Verdejo Old Vines', 'Territori', 'Alomado',\n",
              "       'Selma de Nin Blanco', 'Senda de Los Olivos Roble',\n",
              "       'Mucho Mas Tinto', 'Coto de Imaz Rioja Gran Reserva',\n",
              "       'Vina Alberdi Reserva', 'Rias Baixas Albarino Atlantico',\n",
              "       '27 Ribera del Duero', 'Terras Gauda O Rosal', 'Salmos',\n",
              "       'Vina Bosconia Reserva', 'Louro Godello', 'La Atalaya del Camino',\n",
              "       'Rioja 150 Aniversario', 'Veraton Garnacha',\n",
              "       'Alexander vs. The Ham Factory', 'Vina Alberdi Crianza',\n",
              "       'Taberner Tierra de Cadiz', 'Gessami', 'Finest Old Harvest Medium',\n",
              "       'Ribera del Duero Red', 'Corimbo I', 'Vermut Rojo',\n",
              "       'Vina Tondonia Reserva Blanco', 'Reserva 5 Ano',\n",
              "       'Del Duque Amontillado Sherry VORS',\n",
              "       'Les Terrasses Velles Vinyes Priorat',\n",
              "       'Les Terrasses Laderas de Pizarra', 'Inici',\n",
              "       '5 Finques (Fincas) Reserva', 'Martinet Bru (Garnatxa - Syrah)',\n",
              "       'Ribera Del Duero Reserva', 'Muscat',\n",
              "       'Angeles de Amaren Tempranillo - Graciano', 'Bassus Pinot Noir',\n",
              "       'Sericis Cepas Viejas Monastrell',\n",
              "       'Rioja Reserva Fincas de Ganuza', 'Corpinnat Terrers Brut Nature',\n",
              "       'Dos Cortados Palo Cortado Solera Especial Aged 20 Years',\n",
              "       'Oscar Tobia Reserva Rioja', 'Rioja Satinela Blanco Semidulce',\n",
              "       'Clos del Portal Negre de Negres', 'Solideo', 'Preludio',\n",
              "       'Reserva Tempranillo', 'Coma Vella Priorat', 'Las Ocho (8) Tinto',\n",
              "       'Pago de los Balagueses Syrah', 'Bagus Ribera del Duero',\n",
              "       'Formiga de Vellut', 'Tierra Alta En 2 Maderas',\n",
              "       'Propiedad  Rioja', 'Reserva Especial Icon Edition',\n",
              "       'Antique Palo Cortado', 'Vina Lanciano Reserva',\n",
              "       'Jalifa Amontillado Rare Old Dry Solera Especial Aged 30 Years',\n",
              "       'La Felisa', 'Milmanda', 'Envidiacochina (Tete de Cuvee)', 'Adaro',\n",
              "       'Fondillon Gran Reserva', 'Monastrell - Syrah Finca Espolla',\n",
              "       'Santa Rosa', 'Roc Nu', 'Rias Baixas Albarino Finca Valinas',\n",
              "       'Treixadura', 'Candela Cream Dulce Sweet', 'Nounat',\n",
              "       'Les Brugueres'], dtype=object)"
            ]
          },
          "metadata": {},
          "execution_count": 188
        }
      ]
    },
    {
      "cell_type": "code",
      "source": [
        "df['region'].unique()"
      ],
      "metadata": {
        "colab": {
          "base_uri": "https://localhost:8080/"
        },
        "id": "YMK8ok3Bgeh4",
        "outputId": "477debfe-b06b-4560-cce7-c238739bffbb"
      },
      "execution_count": null,
      "outputs": [
        {
          "output_type": "execute_result",
          "data": {
            "text/plain": [
              "array(['Toro', 'Vino de Espana', 'Ribera del Duero', 'Montilla-Moriles',\n",
              "       'Jumilla', 'Jerez-Xeres-Sherry', 'Priorato', 'Rioja', 'Bierzo',\n",
              "       'Castilla y Leon', 'Campo de Borja', 'Cadiz', 'Cava',\n",
              "       'Jerez Palo Cortado', 'Manzanilla', 'Valdeorras', 'Emporda',\n",
              "       'Rioja Alta', 'Alicante', 'Somontano', 'Dominio de Valdepusa',\n",
              "       'Ribeiro', 'Mallorca', 'Yecla', 'Cigales', 'Utiel-Requena',\n",
              "       'Navarra', 'Rioja Alavesa', 'Costers del Segre', 'Sardon de Duero',\n",
              "       'Malaga', 'Cataluna', 'Rueda', 'Jerez Pedro Ximenes (PX)',\n",
              "       'Montsant', 'Conca de Barbera', 'Rias Baixas', 'Jerez Amontillado',\n",
              "       'Tierra del Vino de Zamora', 'Penedes', 'Dehesa del Carrizal',\n",
              "       'Madrid', 'Carinena', 'Condado de Huelva', 'Almansa',\n",
              "       'Jerez Cream', 'Valencia', 'Sierras de Malaga', 'Ribeira Sacra',\n",
              "       'El Terrerazo', 'Jerez Oloroso', 'Castilla', 'Alella',\n",
              "       'Pla i Llevant', 'Pla de Bages', 'Pago Calzadilla', 'Andalucia',\n",
              "       'Monterrei', 'Ribera del Gallego-Cinco Villas', 'Aragon',\n",
              "       'Galicia', 'La Palma', 'Binissalem-Mallorca', 'Calatayud',\n",
              "       'Arinzano', 'Tarragona', 'Extremadura', 'Murcia', 'La Mancha',\n",
              "       'Otazu', 'Valdejalon', 'Mentrida', 'Terra Alta', 'Arribes',\n",
              "       'Gran Canaria', 'Abona'], dtype=object)"
            ]
          },
          "metadata": {},
          "execution_count": 189
        }
      ]
    },
    {
      "cell_type": "code",
      "source": [
        "df = df.drop(columns = ['country'], axis=1)"
      ],
      "metadata": {
        "id": "66U3nMN3fz4H"
      },
      "execution_count": null,
      "outputs": []
    },
    {
      "cell_type": "code",
      "source": [
        "df['type'] = df['type'].fillna('')"
      ],
      "metadata": {
        "id": "0noqAOqeg0eq"
      },
      "execution_count": null,
      "outputs": []
    },
    {
      "cell_type": "code",
      "source": [
        "df['type'] = df['type'].replace('', 'N/A')"
      ],
      "metadata": {
        "id": "tFqh3Gi9f8fx"
      },
      "execution_count": null,
      "outputs": []
    },
    {
      "cell_type": "code",
      "source": [
        "df.isnull().sum()"
      ],
      "metadata": {
        "colab": {
          "base_uri": "https://localhost:8080/"
        },
        "id": "eMENyaIEgcF_",
        "outputId": "f44ddf73-8eb7-4904-f2f6-3c5b28114e08"
      },
      "execution_count": null,
      "outputs": [
        {
          "output_type": "execute_result",
          "data": {
            "text/plain": [
              "winery         0\n",
              "wine           0\n",
              "year           0\n",
              "rating         0\n",
              "num_reviews    0\n",
              "region         0\n",
              "price          0\n",
              "type           0\n",
              "body           0\n",
              "acidity        0\n",
              "dtype: int64"
            ]
          },
          "metadata": {},
          "execution_count": 193
        }
      ]
    },
    {
      "cell_type": "code",
      "source": [
        "label_encoder = LabelEncoder()\n",
        "df['winery_encoded'] = label_encoder.fit_transform(df['winery'])\n",
        "df['type_encoded'] = label_encoder.fit_transform(df['type'])\n",
        "df['region_encoded'] = label_encoder.fit_transform(df['region'])\n",
        "df['wine_encoded'] = label_encoder.fit_transform(df['wine'])\n",
        "df.drop(columns=['winery', 'type', 'region','wine',], inplace=True)"
      ],
      "metadata": {
        "id": "CKZbd9zdhMxS"
      },
      "execution_count": null,
      "outputs": []
    },
    {
      "cell_type": "code",
      "source": [
        "df.head()"
      ],
      "metadata": {
        "colab": {
          "base_uri": "https://localhost:8080/",
          "height": 226
        },
        "id": "a-_TVuEwhtbh",
        "outputId": "de944a24-7089-4ce0-aad2-e7a3dcfb50b5"
      },
      "execution_count": null,
      "outputs": [
        {
          "output_type": "execute_result",
          "data": {
            "text/plain": [
              "     year  rating  num_reviews   price  body  acidity  winery_encoded  \\\n",
              "0  2013.0     4.9           58  995.00   5.0      3.0             422   \n",
              "1  2018.0     4.9           31  313.50   4.0      2.0              33   \n",
              "2  2009.0     4.8         1793  324.95   5.0      3.0             447   \n",
              "3  1999.0     4.8         1705  692.96   5.0      3.0             447   \n",
              "4  1996.0     4.8         1309  778.06   5.0      3.0             447   \n",
              "\n",
              "   type_encoded  region_encoded  wine_encoded  \n",
              "0            20              69           759  \n",
              "1            19              74           819  \n",
              "2            12              57           778  \n",
              "3            12              57           778  \n",
              "4            12              57           778  "
            ],
            "text/html": [
              "\n",
              "  <div id=\"df-a01e73e5-f1bb-4eba-9b44-df9320817d68\" class=\"colab-df-container\">\n",
              "    <div>\n",
              "<style scoped>\n",
              "    .dataframe tbody tr th:only-of-type {\n",
              "        vertical-align: middle;\n",
              "    }\n",
              "\n",
              "    .dataframe tbody tr th {\n",
              "        vertical-align: top;\n",
              "    }\n",
              "\n",
              "    .dataframe thead th {\n",
              "        text-align: right;\n",
              "    }\n",
              "</style>\n",
              "<table border=\"1\" class=\"dataframe\">\n",
              "  <thead>\n",
              "    <tr style=\"text-align: right;\">\n",
              "      <th></th>\n",
              "      <th>year</th>\n",
              "      <th>rating</th>\n",
              "      <th>num_reviews</th>\n",
              "      <th>price</th>\n",
              "      <th>body</th>\n",
              "      <th>acidity</th>\n",
              "      <th>winery_encoded</th>\n",
              "      <th>type_encoded</th>\n",
              "      <th>region_encoded</th>\n",
              "      <th>wine_encoded</th>\n",
              "    </tr>\n",
              "  </thead>\n",
              "  <tbody>\n",
              "    <tr>\n",
              "      <th>0</th>\n",
              "      <td>2013.0</td>\n",
              "      <td>4.9</td>\n",
              "      <td>58</td>\n",
              "      <td>995.00</td>\n",
              "      <td>5.0</td>\n",
              "      <td>3.0</td>\n",
              "      <td>422</td>\n",
              "      <td>20</td>\n",
              "      <td>69</td>\n",
              "      <td>759</td>\n",
              "    </tr>\n",
              "    <tr>\n",
              "      <th>1</th>\n",
              "      <td>2018.0</td>\n",
              "      <td>4.9</td>\n",
              "      <td>31</td>\n",
              "      <td>313.50</td>\n",
              "      <td>4.0</td>\n",
              "      <td>2.0</td>\n",
              "      <td>33</td>\n",
              "      <td>19</td>\n",
              "      <td>74</td>\n",
              "      <td>819</td>\n",
              "    </tr>\n",
              "    <tr>\n",
              "      <th>2</th>\n",
              "      <td>2009.0</td>\n",
              "      <td>4.8</td>\n",
              "      <td>1793</td>\n",
              "      <td>324.95</td>\n",
              "      <td>5.0</td>\n",
              "      <td>3.0</td>\n",
              "      <td>447</td>\n",
              "      <td>12</td>\n",
              "      <td>57</td>\n",
              "      <td>778</td>\n",
              "    </tr>\n",
              "    <tr>\n",
              "      <th>3</th>\n",
              "      <td>1999.0</td>\n",
              "      <td>4.8</td>\n",
              "      <td>1705</td>\n",
              "      <td>692.96</td>\n",
              "      <td>5.0</td>\n",
              "      <td>3.0</td>\n",
              "      <td>447</td>\n",
              "      <td>12</td>\n",
              "      <td>57</td>\n",
              "      <td>778</td>\n",
              "    </tr>\n",
              "    <tr>\n",
              "      <th>4</th>\n",
              "      <td>1996.0</td>\n",
              "      <td>4.8</td>\n",
              "      <td>1309</td>\n",
              "      <td>778.06</td>\n",
              "      <td>5.0</td>\n",
              "      <td>3.0</td>\n",
              "      <td>447</td>\n",
              "      <td>12</td>\n",
              "      <td>57</td>\n",
              "      <td>778</td>\n",
              "    </tr>\n",
              "  </tbody>\n",
              "</table>\n",
              "</div>\n",
              "    <div class=\"colab-df-buttons\">\n",
              "\n",
              "  <div class=\"colab-df-container\">\n",
              "    <button class=\"colab-df-convert\" onclick=\"convertToInteractive('df-a01e73e5-f1bb-4eba-9b44-df9320817d68')\"\n",
              "            title=\"Convert this dataframe to an interactive table.\"\n",
              "            style=\"display:none;\">\n",
              "\n",
              "  <svg xmlns=\"http://www.w3.org/2000/svg\" height=\"24px\" viewBox=\"0 -960 960 960\">\n",
              "    <path d=\"M120-120v-720h720v720H120Zm60-500h600v-160H180v160Zm220 220h160v-160H400v160Zm0 220h160v-160H400v160ZM180-400h160v-160H180v160Zm440 0h160v-160H620v160ZM180-180h160v-160H180v160Zm440 0h160v-160H620v160Z\"/>\n",
              "  </svg>\n",
              "    </button>\n",
              "\n",
              "  <style>\n",
              "    .colab-df-container {\n",
              "      display:flex;\n",
              "      gap: 12px;\n",
              "    }\n",
              "\n",
              "    .colab-df-convert {\n",
              "      background-color: #E8F0FE;\n",
              "      border: none;\n",
              "      border-radius: 50%;\n",
              "      cursor: pointer;\n",
              "      display: none;\n",
              "      fill: #1967D2;\n",
              "      height: 32px;\n",
              "      padding: 0 0 0 0;\n",
              "      width: 32px;\n",
              "    }\n",
              "\n",
              "    .colab-df-convert:hover {\n",
              "      background-color: #E2EBFA;\n",
              "      box-shadow: 0px 1px 2px rgba(60, 64, 67, 0.3), 0px 1px 3px 1px rgba(60, 64, 67, 0.15);\n",
              "      fill: #174EA6;\n",
              "    }\n",
              "\n",
              "    .colab-df-buttons div {\n",
              "      margin-bottom: 4px;\n",
              "    }\n",
              "\n",
              "    [theme=dark] .colab-df-convert {\n",
              "      background-color: #3B4455;\n",
              "      fill: #D2E3FC;\n",
              "    }\n",
              "\n",
              "    [theme=dark] .colab-df-convert:hover {\n",
              "      background-color: #434B5C;\n",
              "      box-shadow: 0px 1px 3px 1px rgba(0, 0, 0, 0.15);\n",
              "      filter: drop-shadow(0px 1px 2px rgba(0, 0, 0, 0.3));\n",
              "      fill: #FFFFFF;\n",
              "    }\n",
              "  </style>\n",
              "\n",
              "    <script>\n",
              "      const buttonEl =\n",
              "        document.querySelector('#df-a01e73e5-f1bb-4eba-9b44-df9320817d68 button.colab-df-convert');\n",
              "      buttonEl.style.display =\n",
              "        google.colab.kernel.accessAllowed ? 'block' : 'none';\n",
              "\n",
              "      async function convertToInteractive(key) {\n",
              "        const element = document.querySelector('#df-a01e73e5-f1bb-4eba-9b44-df9320817d68');\n",
              "        const dataTable =\n",
              "          await google.colab.kernel.invokeFunction('convertToInteractive',\n",
              "                                                    [key], {});\n",
              "        if (!dataTable) return;\n",
              "\n",
              "        const docLinkHtml = 'Like what you see? Visit the ' +\n",
              "          '<a target=\"_blank\" href=https://colab.research.google.com/notebooks/data_table.ipynb>data table notebook</a>'\n",
              "          + ' to learn more about interactive tables.';\n",
              "        element.innerHTML = '';\n",
              "        dataTable['output_type'] = 'display_data';\n",
              "        await google.colab.output.renderOutput(dataTable, element);\n",
              "        const docLink = document.createElement('div');\n",
              "        docLink.innerHTML = docLinkHtml;\n",
              "        element.appendChild(docLink);\n",
              "      }\n",
              "    </script>\n",
              "  </div>\n",
              "\n",
              "\n",
              "<div id=\"df-fb0bfaa3-b5df-4644-9c74-838c90dace55\">\n",
              "  <button class=\"colab-df-quickchart\" onclick=\"quickchart('df-fb0bfaa3-b5df-4644-9c74-838c90dace55')\"\n",
              "            title=\"Suggest charts\"\n",
              "            style=\"display:none;\">\n",
              "\n",
              "<svg xmlns=\"http://www.w3.org/2000/svg\" height=\"24px\"viewBox=\"0 0 24 24\"\n",
              "     width=\"24px\">\n",
              "    <g>\n",
              "        <path d=\"M19 3H5c-1.1 0-2 .9-2 2v14c0 1.1.9 2 2 2h14c1.1 0 2-.9 2-2V5c0-1.1-.9-2-2-2zM9 17H7v-7h2v7zm4 0h-2V7h2v10zm4 0h-2v-4h2v4z\"/>\n",
              "    </g>\n",
              "</svg>\n",
              "  </button>\n",
              "\n",
              "<style>\n",
              "  .colab-df-quickchart {\n",
              "      --bg-color: #E8F0FE;\n",
              "      --fill-color: #1967D2;\n",
              "      --hover-bg-color: #E2EBFA;\n",
              "      --hover-fill-color: #174EA6;\n",
              "      --disabled-fill-color: #AAA;\n",
              "      --disabled-bg-color: #DDD;\n",
              "  }\n",
              "\n",
              "  [theme=dark] .colab-df-quickchart {\n",
              "      --bg-color: #3B4455;\n",
              "      --fill-color: #D2E3FC;\n",
              "      --hover-bg-color: #434B5C;\n",
              "      --hover-fill-color: #FFFFFF;\n",
              "      --disabled-bg-color: #3B4455;\n",
              "      --disabled-fill-color: #666;\n",
              "  }\n",
              "\n",
              "  .colab-df-quickchart {\n",
              "    background-color: var(--bg-color);\n",
              "    border: none;\n",
              "    border-radius: 50%;\n",
              "    cursor: pointer;\n",
              "    display: none;\n",
              "    fill: var(--fill-color);\n",
              "    height: 32px;\n",
              "    padding: 0;\n",
              "    width: 32px;\n",
              "  }\n",
              "\n",
              "  .colab-df-quickchart:hover {\n",
              "    background-color: var(--hover-bg-color);\n",
              "    box-shadow: 0 1px 2px rgba(60, 64, 67, 0.3), 0 1px 3px 1px rgba(60, 64, 67, 0.15);\n",
              "    fill: var(--button-hover-fill-color);\n",
              "  }\n",
              "\n",
              "  .colab-df-quickchart-complete:disabled,\n",
              "  .colab-df-quickchart-complete:disabled:hover {\n",
              "    background-color: var(--disabled-bg-color);\n",
              "    fill: var(--disabled-fill-color);\n",
              "    box-shadow: none;\n",
              "  }\n",
              "\n",
              "  .colab-df-spinner {\n",
              "    border: 2px solid var(--fill-color);\n",
              "    border-color: transparent;\n",
              "    border-bottom-color: var(--fill-color);\n",
              "    animation:\n",
              "      spin 1s steps(1) infinite;\n",
              "  }\n",
              "\n",
              "  @keyframes spin {\n",
              "    0% {\n",
              "      border-color: transparent;\n",
              "      border-bottom-color: var(--fill-color);\n",
              "      border-left-color: var(--fill-color);\n",
              "    }\n",
              "    20% {\n",
              "      border-color: transparent;\n",
              "      border-left-color: var(--fill-color);\n",
              "      border-top-color: var(--fill-color);\n",
              "    }\n",
              "    30% {\n",
              "      border-color: transparent;\n",
              "      border-left-color: var(--fill-color);\n",
              "      border-top-color: var(--fill-color);\n",
              "      border-right-color: var(--fill-color);\n",
              "    }\n",
              "    40% {\n",
              "      border-color: transparent;\n",
              "      border-right-color: var(--fill-color);\n",
              "      border-top-color: var(--fill-color);\n",
              "    }\n",
              "    60% {\n",
              "      border-color: transparent;\n",
              "      border-right-color: var(--fill-color);\n",
              "    }\n",
              "    80% {\n",
              "      border-color: transparent;\n",
              "      border-right-color: var(--fill-color);\n",
              "      border-bottom-color: var(--fill-color);\n",
              "    }\n",
              "    90% {\n",
              "      border-color: transparent;\n",
              "      border-bottom-color: var(--fill-color);\n",
              "    }\n",
              "  }\n",
              "</style>\n",
              "\n",
              "  <script>\n",
              "    async function quickchart(key) {\n",
              "      const quickchartButtonEl =\n",
              "        document.querySelector('#' + key + ' button');\n",
              "      quickchartButtonEl.disabled = true;  // To prevent multiple clicks.\n",
              "      quickchartButtonEl.classList.add('colab-df-spinner');\n",
              "      try {\n",
              "        const charts = await google.colab.kernel.invokeFunction(\n",
              "            'suggestCharts', [key], {});\n",
              "      } catch (error) {\n",
              "        console.error('Error during call to suggestCharts:', error);\n",
              "      }\n",
              "      quickchartButtonEl.classList.remove('colab-df-spinner');\n",
              "      quickchartButtonEl.classList.add('colab-df-quickchart-complete');\n",
              "    }\n",
              "    (() => {\n",
              "      let quickchartButtonEl =\n",
              "        document.querySelector('#df-fb0bfaa3-b5df-4644-9c74-838c90dace55 button');\n",
              "      quickchartButtonEl.style.display =\n",
              "        google.colab.kernel.accessAllowed ? 'block' : 'none';\n",
              "    })();\n",
              "  </script>\n",
              "</div>\n",
              "\n",
              "    </div>\n",
              "  </div>\n"
            ],
            "application/vnd.google.colaboratory.intrinsic+json": {
              "type": "dataframe",
              "variable_name": "df",
              "summary": "{\n  \"name\": \"df\",\n  \"rows\": 7500,\n  \"fields\": [\n    {\n      \"column\": \"year\",\n      \"properties\": {\n        \"dtype\": \"number\",\n        \"std\": 6.811103886411282,\n        \"min\": 1910.0,\n        \"max\": 2021.0,\n        \"num_unique_values\": 70,\n        \"samples\": [\n          1929.0,\n          2013.0,\n          1942.0\n        ],\n        \"semantic_type\": \"\",\n        \"description\": \"\"\n      }\n    },\n    {\n      \"column\": \"rating\",\n      \"properties\": {\n        \"dtype\": \"number\",\n        \"std\": 0.1180290345746442,\n        \"min\": 4.2,\n        \"max\": 4.9,\n        \"num_unique_values\": 8,\n        \"samples\": [\n          4.8,\n          4.4,\n          4.9\n        ],\n        \"semantic_type\": \"\",\n        \"description\": \"\"\n      }\n    },\n    {\n      \"column\": \"num_reviews\",\n      \"properties\": {\n        \"dtype\": \"number\",\n        \"std\": 723,\n        \"min\": 25,\n        \"max\": 32624,\n        \"num_unique_values\": 817,\n        \"samples\": [\n          115,\n          177,\n          2144\n        ],\n        \"semantic_type\": \"\",\n        \"description\": \"\"\n      }\n    },\n    {\n      \"column\": \"price\",\n      \"properties\": {\n        \"dtype\": \"number\",\n        \"std\": 150.35667645268242,\n        \"min\": 4.99,\n        \"max\": 3119.08,\n        \"num_unique_values\": 1292,\n        \"samples\": [\n          168.0,\n          190.0,\n          28.7315367295517\n        ],\n        \"semantic_type\": \"\",\n        \"description\": \"\"\n      }\n    },\n    {\n      \"column\": \"body\",\n      \"properties\": {\n        \"dtype\": \"number\",\n        \"std\": 0.539030737627305,\n        \"min\": 2.0,\n        \"max\": 5.0,\n        \"num_unique_values\": 4,\n        \"samples\": [\n          4.0,\n          2.0,\n          5.0\n        ],\n        \"semantic_type\": \"\",\n        \"description\": \"\"\n      }\n    },\n    {\n      \"column\": \"acidity\",\n      \"properties\": {\n        \"dtype\": \"number\",\n        \"std\": 0.22885798876033325,\n        \"min\": 1.0,\n        \"max\": 3.0,\n        \"num_unique_values\": 3,\n        \"samples\": [\n          3.0,\n          2.0,\n          1.0\n        ],\n        \"semantic_type\": \"\",\n        \"description\": \"\"\n      }\n    },\n    {\n      \"column\": \"winery_encoded\",\n      \"properties\": {\n        \"dtype\": \"number\",\n        \"std\": 128,\n        \"min\": 0,\n        \"max\": 479,\n        \"num_unique_values\": 480,\n        \"samples\": [\n          225,\n          257,\n          108\n        ],\n        \"semantic_type\": \"\",\n        \"description\": \"\"\n      }\n    },\n    {\n      \"column\": \"type_encoded\",\n      \"properties\": {\n        \"dtype\": \"number\",\n        \"std\": 3,\n        \"min\": 0,\n        \"max\": 21,\n        \"num_unique_values\": 22,\n        \"samples\": [\n          20,\n          18,\n          14\n        ],\n        \"semantic_type\": \"\",\n        \"description\": \"\"\n      }\n    },\n    {\n      \"column\": \"region_encoded\",\n      \"properties\": {\n        \"dtype\": \"number\",\n        \"std\": 17,\n        \"min\": 0,\n        \"max\": 75,\n        \"num_unique_values\": 76,\n        \"samples\": [\n          35,\n          19,\n          12\n        ],\n        \"semantic_type\": \"\",\n        \"description\": \"\"\n      }\n    },\n    {\n      \"column\": \"wine_encoded\",\n      \"properties\": {\n        \"dtype\": \"number\",\n        \"std\": 231,\n        \"min\": 0,\n        \"max\": 846,\n        \"num_unique_values\": 847,\n        \"samples\": [\n          139,\n          745,\n          557\n        ],\n        \"semantic_type\": \"\",\n        \"description\": \"\"\n      }\n    }\n  ]\n}"
            }
          },
          "metadata": {},
          "execution_count": 195
        }
      ]
    },
    {
      "cell_type": "code",
      "source": [
        "Scaler = StandardScaler()"
      ],
      "metadata": {
        "id": "4yO6D9SlgqFG"
      },
      "execution_count": null,
      "outputs": []
    },
    {
      "cell_type": "code",
      "source": [
        "X = df.drop(columns=['type_encoded'], axis=1)"
      ],
      "metadata": {
        "id": "lfTsMVoghIbE"
      },
      "execution_count": null,
      "outputs": []
    },
    {
      "cell_type": "code",
      "source": [
        "Y = df['type_encoded']"
      ],
      "metadata": {
        "id": "pyS5LgY7jKbx"
      },
      "execution_count": null,
      "outputs": []
    },
    {
      "cell_type": "code",
      "source": [
        "df.info()"
      ],
      "metadata": {
        "colab": {
          "base_uri": "https://localhost:8080/"
        },
        "id": "8OcbFsWljTpg",
        "outputId": "3ab872ef-5488-4788-e2c1-443d8e3dbd05"
      },
      "execution_count": null,
      "outputs": [
        {
          "output_type": "stream",
          "name": "stdout",
          "text": [
            "<class 'pandas.core.frame.DataFrame'>\n",
            "RangeIndex: 7500 entries, 0 to 7499\n",
            "Data columns (total 10 columns):\n",
            " #   Column          Non-Null Count  Dtype  \n",
            "---  ------          --------------  -----  \n",
            " 0   year            7500 non-null   float64\n",
            " 1   rating          7500 non-null   float64\n",
            " 2   num_reviews     7500 non-null   int64  \n",
            " 3   price           7500 non-null   float64\n",
            " 4   body            7500 non-null   float64\n",
            " 5   acidity         7500 non-null   float64\n",
            " 6   winery_encoded  7500 non-null   int64  \n",
            " 7   type_encoded    7500 non-null   int64  \n",
            " 8   region_encoded  7500 non-null   int64  \n",
            " 9   wine_encoded    7500 non-null   int64  \n",
            "dtypes: float64(5), int64(5)\n",
            "memory usage: 586.1 KB\n"
          ]
        }
      ]
    },
    {
      "cell_type": "code",
      "source": [
        "standarized_price = scaler.fit_transform(df['price'].values.reshape(-1, 1))\n",
        "print(standarized_price)"
      ],
      "metadata": {
        "colab": {
          "base_uri": "https://localhost:8080/"
        },
        "id": "4ZvAlvK9jX13",
        "outputId": "7a8cf647-5acf-4e90-d730-392e3dd23445"
      },
      "execution_count": null,
      "outputs": [
        {
          "output_type": "stream",
          "name": "stdout",
          "text": [
            "[[ 6.21832388]\n",
            " [ 1.68546605]\n",
            " [ 1.76162338]\n",
            " ...\n",
            " [-0.23709089]\n",
            " [ 0.02929349]\n",
            " [-0.18933459]]\n"
          ]
        }
      ]
    },
    {
      "cell_type": "code",
      "source": [
        "scaler = StandardScaler()\n",
        "standardize_X = scaler.fit_transform(X)\n",
        "print(standardize_X)"
      ],
      "metadata": {
        "colab": {
          "base_uri": "https://localhost:8080/"
        },
        "id": "ywg5MAXc4Iec",
        "outputId": "9e7b9918-24f7-4a26-958e-5b9f5a851bb0"
      },
      "execution_count": null,
      "outputs": [
        {
          "output_type": "stream",
          "name": "stdout",
          "text": [
            "[[-0.08134319  5.46568628 -0.54375417 ...  1.27300802  1.08636959\n",
            "   1.25737416]\n",
            " [ 0.65280115  5.46568628 -0.58110097 ... -1.75330797  1.37526284\n",
            "   1.51655555]\n",
            " [-0.66865866  4.61838064  1.85612304 ...  1.46750134  0.39302579\n",
            "   1.33944827]\n",
            " ...\n",
            " [ 0.50597228 -0.46545323 -0.08452695 ...  0.58839155 -1.51366967\n",
            "  -0.71672409]\n",
            " [-0.37500093 -0.46545323 -0.08591016 ...  0.44835636  0.39302579\n",
            "  -0.54393649]\n",
            " [ 0.35914341 -0.46545323 -0.08729338 ...  1.1485323   0.39302579\n",
            "   0.55326472]]\n"
          ]
        }
      ]
    },
    {
      "cell_type": "code",
      "source": [
        "X_train, X_test, Y_train, Y_test = train_test_split(X, Y, test_size=0.2, random_state=3)"
      ],
      "metadata": {
        "id": "OkgImhYGjzI6"
      },
      "execution_count": null,
      "outputs": []
    },
    {
      "cell_type": "code",
      "source": [
        "print(X.shape, X_train.shape, X_test.shape)"
      ],
      "metadata": {
        "colab": {
          "base_uri": "https://localhost:8080/"
        },
        "id": "IuDY1YtUk4UJ",
        "outputId": "38d937c0-ff65-4a22-9892-d5b860362a22"
      },
      "execution_count": null,
      "outputs": [
        {
          "output_type": "stream",
          "name": "stdout",
          "text": [
            "(7500, 9) (6000, 9) (1500, 9)\n"
          ]
        }
      ]
    },
    {
      "cell_type": "markdown",
      "source": [
        "# CORRELATION MATRIX"
      ],
      "metadata": {
        "id": "LOkDlNrbEMDj"
      }
    },
    {
      "cell_type": "code",
      "source": [
        "correlation = df.corr()"
      ],
      "metadata": {
        "id": "m38bmTLzoQPB"
      },
      "execution_count": null,
      "outputs": []
    },
    {
      "cell_type": "code",
      "source": [
        "plt.figure(figsize=(10, 10))\n",
        "sns.heatmap(correlation, cbar=True, square=True, fmt='.2f', annot=True, annot_kws={'size': 10}, cmap='Blues', linewidths=0.5, linecolor='gray')\n",
        "plt.title(\"Correlation Matrix\", fontsize=16, fontweight='bold', pad=20)\n",
        "plt.xticks(fontsize=10, fontweight='bold')\n",
        "plt.yticks(fontsize=10, fontweight='bold')\n",
        "plt.xlabel('Features', fontsize=12, fontweight='bold', labelpad=15)\n",
        "plt.ylabel('Features', fontsize=12, fontweight='bold', labelpad=15)\n",
        "plt.show()\n"
      ],
      "metadata": {
        "colab": {
          "base_uri": "https://localhost:8080/",
          "height": 912
        },
        "id": "yrx5c5ASk4sU",
        "outputId": "54ef39db-6dda-4ed1-9173-e16e1cbda517"
      },
      "execution_count": null,
      "outputs": [
        {
          "output_type": "display_data",
          "data": {
            "text/plain": [
              "<Figure size 1000x1000 with 2 Axes>"
            ],
            "image/png": "[encoded data removed]"
          },
          "metadata": {}
        }
      ]
    },
    {
      "cell_type": "markdown",
      "source": [
        "# TRAIN MODELS"
      ],
      "metadata": {
        "id": "O1aVMsFaEV46"
      }
    },
    {
      "cell_type": "code",
      "source": [
        "model = LogisticRegression()\n",
        "model.fit(X_train, Y_train)"
      ],
      "metadata": {
        "colab": {
          "base_uri": "https://localhost:8080/",
          "height": 213
        },
        "id": "h_f7qXv4qA2Z",
        "outputId": "de25ffa8-e2af-4c8c-f2c1-43cf4e975837"
      },
      "execution_count": null,
      "outputs": [
        {
          "output_type": "stream",
          "name": "stderr",
          "text": [
            "/usr/local/lib/python3.10/dist-packages/sklearn/linear_model/_logistic.py:458: ConvergenceWarning: lbfgs failed to converge (status=1):\n",
            "STOP: TOTAL NO. of ITERATIONS REACHED LIMIT.\n",
            "\n",
            "Increase the number of iterations (max_iter) or scale the data as shown in:\n",
            "    https://scikit-learn.org/stable/modules/preprocessing.html\n",
            "Please also refer to the documentation for alternative solver options:\n",
            "    https://scikit-learn.org/stable/modules/linear_model.html#logistic-regression\n",
            "  n_iter_i = _check_optimize_result(\n"
          ]
        },
        {
          "output_type": "execute_result",
          "data": {
            "text/plain": [
              "LogisticRegression()"
            ],
            "text/html": [
              "<style>#sk-container-id-5 {color: black;background-color: white;}#sk-container-id-5 pre{padding: 0;}#sk-container-id-5 div.sk-toggleable {background-color: white;}#sk-container-id-5 label.sk-toggleable__label {cursor: pointer;display: block;width: 100%;margin-bottom: 0;padding: 0.3em;box-sizing: border-box;text-align: center;}#sk-container-id-5 label.sk-toggleable__label-arrow:before {content: \"▸\";float: left;margin-right: 0.25em;color: #696969;}#sk-container-id-5 label.sk-toggleable__label-arrow:hover:before {color: black;}#sk-container-id-5 div.sk-estimator:hover label.sk-toggleable__label-arrow:before {color: black;}#sk-container-id-5 div.sk-toggleable__content {max-height: 0;max-width: 0;overflow: hidden;text-align: left;background-color: #f0f8ff;}#sk-container-id-5 div.sk-toggleable__content pre {margin: 0.2em;color: black;border-radius: 0.25em;background-color: #f0f8ff;}#sk-container-id-5 input.sk-toggleable__control:checked~div.sk-toggleable__content {max-height: 200px;max-width: 100%;overflow: auto;}#sk-container-id-5 input.sk-toggleable__control:checked~label.sk-toggleable__label-arrow:before {content: \"▾\";}#sk-container-id-5 div.sk-estimator input.sk-toggleable__control:checked~label.sk-toggleable__label {background-color: #d4ebff;}#sk-container-id-5 div.sk-label input.sk-toggleable__control:checked~label.sk-toggleable__label {background-color: #d4ebff;}#sk-container-id-5 input.sk-hidden--visually {border: 0;clip: rect(1px 1px 1px 1px);clip: rect(1px, 1px, 1px, 1px);height: 1px;margin: -1px;overflow: hidden;padding: 0;position: absolute;width: 1px;}#sk-container-id-5 div.sk-estimator {font-family: monospace;background-color: #f0f8ff;border: 1px dotted black;border-radius: 0.25em;box-sizing: border-box;margin-bottom: 0.5em;}#sk-container-id-5 div.sk-estimator:hover {background-color: #d4ebff;}#sk-container-id-5 div.sk-parallel-item::after {content: \"\";width: 100%;border-bottom: 1px solid gray;flex-grow: 1;}#sk-container-id-5 div.sk-label:hover label.sk-toggleable__label {background-color: #d4ebff;}#sk-container-id-5 div.sk-serial::before {content: \"\";position: absolute;border-left: 1px solid gray;box-sizing: border-box;top: 0;bottom: 0;left: 50%;z-index: 0;}#sk-container-id-5 div.sk-serial {display: flex;flex-direction: column;align-items: center;background-color: white;padding-right: 0.2em;padding-left: 0.2em;position: relative;}#sk-container-id-5 div.sk-item {position: relative;z-index: 1;}#sk-container-id-5 div.sk-parallel {display: flex;align-items: stretch;justify-content: center;background-color: white;position: relative;}#sk-container-id-5 div.sk-item::before, #sk-container-id-5 div.sk-parallel-item::before {content: \"\";position: absolute;border-left: 1px solid gray;box-sizing: border-box;top: 0;bottom: 0;left: 50%;z-index: -1;}#sk-container-id-5 div.sk-parallel-item {display: flex;flex-direction: column;z-index: 1;position: relative;background-color: white;}#sk-container-id-5 div.sk-parallel-item:first-child::after {align-self: flex-end;width: 50%;}#sk-container-id-5 div.sk-parallel-item:last-child::after {align-self: flex-start;width: 50%;}#sk-container-id-5 div.sk-parallel-item:only-child::after {width: 0;}#sk-container-id-5 div.sk-dashed-wrapped {border: 1px dashed gray;margin: 0 0.4em 0.5em 0.4em;box-sizing: border-box;padding-bottom: 0.4em;background-color: white;}#sk-container-id-5 div.sk-label label {font-family: monospace;font-weight: bold;display: inline-block;line-height: 1.2em;}#sk-container-id-5 div.sk-label-container {text-align: center;}#sk-container-id-5 div.sk-container {/* jupyter's `normalize.less` sets `[hidden] { display: none; }` but bootstrap.min.css set `[hidden] { display: none !important; }` so we also need the `!important` here to be able to override the default hidden behavior on the sphinx rendered scikit-learn.org. See: https://github.com/scikit-learn/scikit-learn/issues/21755 */display: inline-block !important;position: relative;}#sk-container-id-5 div.sk-text-repr-fallback {display: none;}</style><div id=\"sk-container-id-5\" class=\"sk-top-container\"><div class=\"sk-text-repr-fallback\"><pre>LogisticRegression()</pre><b>In a Jupyter environment, please rerun this cell to show the HTML representation or trust the notebook. <br />On GitHub, the HTML representation is unable to render, please try loading this page with nbviewer.org.</b></div><div class=\"sk-container\" hidden><div class=\"sk-item\"><div class=\"sk-estimator sk-toggleable\"><input class=\"sk-toggleable__control sk-hidden--visually\" id=\"sk-estimator-id-5\" type=\"checkbox\" checked><label for=\"sk-estimator-id-5\" class=\"sk-toggleable__label sk-toggleable__label-arrow\">LogisticRegression</label><div class=\"sk-toggleable__content\"><pre>LogisticRegression()</pre></div></div></div></div></div>"
            ]
          },
          "metadata": {},
          "execution_count": 224
        }
      ]
    },
    {
      "cell_type": "code",
      "source": [
        "X_train_prediction = model.predict(X_train)\n",
        "X_train_accuracy = accuracy_score(X_train_prediction,Y_train)"
      ],
      "metadata": {
        "id": "6CQYUWEzqjZp"
      },
      "execution_count": null,
      "outputs": []
    },
    {
      "cell_type": "code",
      "source": [
        "print(X_train_accuracy)"
      ],
      "metadata": {
        "id": "Hvx6TKDCrCbk",
        "colab": {
          "base_uri": "https://localhost:8080/"
        },
        "outputId": "5c253683-9662-4b91-ba57-5a3d9235d0f0"
      },
      "execution_count": null,
      "outputs": [
        {
          "output_type": "stream",
          "name": "stdout",
          "text": [
            "0.4723333333333333\n"
          ]
        }
      ]
    },
    {
      "cell_type": "code",
      "source": [
        "X_test_prediction = model.predict(X_test)\n",
        "X_test_accuracy = accuracy_score(X_test_prediction, Y_test)"
      ],
      "metadata": {
        "id": "NgPzNXwnrEZc"
      },
      "execution_count": null,
      "outputs": []
    },
    {
      "cell_type": "code",
      "source": [
        "print(X_test_accuracy)"
      ],
      "metadata": {
        "id": "Mmiv_5oerGGh",
        "colab": {
          "base_uri": "https://localhost:8080/"
        },
        "outputId": "ad0e760a-4e53-4ee2-b12e-562a0511ce17"
      },
      "execution_count": null,
      "outputs": [
        {
          "output_type": "stream",
          "name": "stdout",
          "text": [
            "0.446\n"
          ]
        }
      ]
    },
    {
      "cell_type": "code",
      "source": [
        "classifier = svm.SVC(kernel='linear')"
      ],
      "metadata": {
        "id": "RZ0hEokIqLl5"
      },
      "execution_count": null,
      "outputs": []
    },
    {
      "cell_type": "code",
      "source": [
        "classifier.fit(X_train,Y_train)"
      ],
      "metadata": {
        "id": "ohsYrDMsqBYp",
        "colab": {
          "base_uri": "https://localhost:8080/",
          "height": 74
        },
        "outputId": "78d07755-056a-4b60-e18f-d9205360d05d"
      },
      "execution_count": 230,
      "outputs": [
        {
          "output_type": "execute_result",
          "data": {
            "text/plain": [
              "SVC(kernel='linear')"
            ],
            "text/html": [
              "<style>#sk-container-id-6 {color: black;background-color: white;}#sk-container-id-6 pre{padding: 0;}#sk-container-id-6 div.sk-toggleable {background-color: white;}#sk-container-id-6 label.sk-toggleable__label {cursor: pointer;display: block;width: 100%;margin-bottom: 0;padding: 0.3em;box-sizing: border-box;text-align: center;}#sk-container-id-6 label.sk-toggleable__label-arrow:before {content: \"▸\";float: left;margin-right: 0.25em;color: #696969;}#sk-container-id-6 label.sk-toggleable__label-arrow:hover:before {color: black;}#sk-container-id-6 div.sk-estimator:hover label.sk-toggleable__label-arrow:before {color: black;}#sk-container-id-6 div.sk-toggleable__content {max-height: 0;max-width: 0;overflow: hidden;text-align: left;background-color: #f0f8ff;}#sk-container-id-6 div.sk-toggleable__content pre {margin: 0.2em;color: black;border-radius: 0.25em;background-color: #f0f8ff;}#sk-container-id-6 input.sk-toggleable__control:checked~div.sk-toggleable__content {max-height: 200px;max-width: 100%;overflow: auto;}#sk-container-id-6 input.sk-toggleable__control:checked~label.sk-toggleable__label-arrow:before {content: \"▾\";}#sk-container-id-6 div.sk-estimator input.sk-toggleable__control:checked~label.sk-toggleable__label {background-color: #d4ebff;}#sk-container-id-6 div.sk-label input.sk-toggleable__control:checked~label.sk-toggleable__label {background-color: #d4ebff;}#sk-container-id-6 input.sk-hidden--visually {border: 0;clip: rect(1px 1px 1px 1px);clip: rect(1px, 1px, 1px, 1px);height: 1px;margin: -1px;overflow: hidden;padding: 0;position: absolute;width: 1px;}#sk-container-id-6 div.sk-estimator {font-family: monospace;background-color: #f0f8ff;border: 1px dotted black;border-radius: 0.25em;box-sizing: border-box;margin-bottom: 0.5em;}#sk-container-id-6 div.sk-estimator:hover {background-color: #d4ebff;}#sk-container-id-6 div.sk-parallel-item::after {content: \"\";width: 100%;border-bottom: 1px solid gray;flex-grow: 1;}#sk-container-id-6 div.sk-label:hover label.sk-toggleable__label {background-color: #d4ebff;}#sk-container-id-6 div.sk-serial::before {content: \"\";position: absolute;border-left: 1px solid gray;box-sizing: border-box;top: 0;bottom: 0;left: 50%;z-index: 0;}#sk-container-id-6 div.sk-serial {display: flex;flex-direction: column;align-items: center;background-color: white;padding-right: 0.2em;padding-left: 0.2em;position: relative;}#sk-container-id-6 div.sk-item {position: relative;z-index: 1;}#sk-container-id-6 div.sk-parallel {display: flex;align-items: stretch;justify-content: center;background-color: white;position: relative;}#sk-container-id-6 div.sk-item::before, #sk-container-id-6 div.sk-parallel-item::before {content: \"\";position: absolute;border-left: 1px solid gray;box-sizing: border-box;top: 0;bottom: 0;left: 50%;z-index: -1;}#sk-container-id-6 div.sk-parallel-item {display: flex;flex-direction: column;z-index: 1;position: relative;background-color: white;}#sk-container-id-6 div.sk-parallel-item:first-child::after {align-self: flex-end;width: 50%;}#sk-container-id-6 div.sk-parallel-item:last-child::after {align-self: flex-start;width: 50%;}#sk-container-id-6 div.sk-parallel-item:only-child::after {width: 0;}#sk-container-id-6 div.sk-dashed-wrapped {border: 1px dashed gray;margin: 0 0.4em 0.5em 0.4em;box-sizing: border-box;padding-bottom: 0.4em;background-color: white;}#sk-container-id-6 div.sk-label label {font-family: monospace;font-weight: bold;display: inline-block;line-height: 1.2em;}#sk-container-id-6 div.sk-label-container {text-align: center;}#sk-container-id-6 div.sk-container {/* jupyter's `normalize.less` sets `[hidden] { display: none; }` but bootstrap.min.css set `[hidden] { display: none !important; }` so we also need the `!important` here to be able to override the default hidden behavior on the sphinx rendered scikit-learn.org. See: https://github.com/scikit-learn/scikit-learn/issues/21755 */display: inline-block !important;position: relative;}#sk-container-id-6 div.sk-text-repr-fallback {display: none;}</style><div id=\"sk-container-id-6\" class=\"sk-top-container\"><div class=\"sk-text-repr-fallback\"><pre>SVC(kernel=&#x27;linear&#x27;)</pre><b>In a Jupyter environment, please rerun this cell to show the HTML representation or trust the notebook. <br />On GitHub, the HTML representation is unable to render, please try loading this page with nbviewer.org.</b></div><div class=\"sk-container\" hidden><div class=\"sk-item\"><div class=\"sk-estimator sk-toggleable\"><input class=\"sk-toggleable__control sk-hidden--visually\" id=\"sk-estimator-id-6\" type=\"checkbox\" checked><label for=\"sk-estimator-id-6\" class=\"sk-toggleable__label sk-toggleable__label-arrow\">SVC</label><div class=\"sk-toggleable__content\"><pre>SVC(kernel=&#x27;linear&#x27;)</pre></div></div></div></div></div>"
            ]
          },
          "metadata": {},
          "execution_count": 230
        }
      ]
    },
    {
      "cell_type": "code",
      "source": [
        "X_train_prediction = classifier.predict(X_train)\n",
        "accuracy_X_train = accuracy_score(X_train_prediction, Y_train)\n",
        "print(accuracy_X_train)"
      ],
      "metadata": {
        "colab": {
          "base_uri": "https://localhost:8080/"
        },
        "id": "6GcBV__yqngh",
        "outputId": "e20e9c17-078e-4a49-d34f-902cacf90939"
      },
      "execution_count": 231,
      "outputs": [
        {
          "output_type": "stream",
          "name": "stdout",
          "text": [
            "0.8986666666666666\n"
          ]
        }
      ]
    },
    {
      "cell_type": "code",
      "source": [
        "X_test_prediction = classifier.predict(X_test)\n",
        "accuracy_X_test = accuracy_score(X_test_prediction, Y_test)\n",
        "print(accuracy_X_test)"
      ],
      "metadata": {
        "id": "VbxTvxTKqqTh",
        "colab": {
          "base_uri": "https://localhost:8080/"
        },
        "outputId": "6551280d-5962-46b2-8fc6-cae2f2e783b9"
      },
      "execution_count": 232,
      "outputs": [
        {
          "output_type": "stream",
          "name": "stdout",
          "text": [
            "0.8813333333333333\n"
          ]
        }
      ]
    },
    {
      "cell_type": "markdown",
      "source": [
        "# Confusion Matrix"
      ],
      "metadata": {
        "id": "S7dIvYcYEvza"
      }
    },
    {
      "cell_type": "code",
      "source": [
        "conf_matrix = confusion_matrix(Y_test, X_test_prediction)\n",
        "plt.figure(figsize=(10, 10))\n",
        "sns.heatmap(conf_matrix, annot=True, fmt=\"d\", cmap='Blues', cbar=False,\n",
        "            linewidths=1, linecolor='black', square=True, mask=None)\n",
        "plt.title('Confusion Matrix_test')\n",
        "plt.xlabel('Predicted Label')\n",
        "plt.ylabel('True Label')\n",
        "\n",
        "plt.yticks(rotation=0)\n",
        "plt.tight_layout()\n",
        "plt.show()\n"
      ],
      "metadata": {
        "colab": {
          "base_uri": "https://localhost:8080/",
          "height": 1000
        },
        "id": "1Sg__1nf5Oj7",
        "outputId": "db8e42fe-81f6-4553-99c5-3ed7c7858d94"
      },
      "execution_count": 245,
      "outputs": [
        {
          "output_type": "display_data",
          "data": {
            "text/plain": [
              "<Figure size 1000x1000 with 1 Axes>"
            ],
            "image/png": "[encoded data removed]"
          },
          "metadata": {}
        }
      ]
    },
    {
      "cell_type": "code",
      "source": [
        "conf_matrix = confusion_matrix(Y_train, X_train_prediction)\n",
        "plt.figure(figsize=(10, 10))\n",
        "sns.heatmap(conf_matrix, annot=True, fmt=\"d\", cmap='Blues', cbar=False,\n",
        "            linewidths=1, linecolor='black', square=True, mask=None)\n",
        "plt.title('Confusion Matrix_train')\n",
        "plt.xlabel('Predicted Label')\n",
        "plt.ylabel('True Label')\n",
        "\n",
        "plt.yticks(rotation=0)\n",
        "plt.tight_layout()\n",
        "plt.show()"
      ],
      "metadata": {
        "id": "gRYVxEqc5iUM",
        "colab": {
          "base_uri": "https://localhost:8080/",
          "height": 1000
        },
        "outputId": "de6c4d6a-0f77-454e-d34a-02774eeadd56"
      },
      "execution_count": 246,
      "outputs": [
        {
          "output_type": "display_data",
          "data": {
            "text/plain": [
              "<Figure size 1000x1000 with 1 Axes>"
            ],
            "image/png": "[encoded data removed]"
          },
          "metadata": {}
        }
      ]
    }
  ]
}